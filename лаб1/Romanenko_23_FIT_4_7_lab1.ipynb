{
 "cells": [
  {
   "cell_type": "markdown",
   "metadata": {},
   "source": [
    "# Лабораторна робота №1\n",
    "\n",
    "Романенко Ілля ФІТ 4-7\n",
    "\n",
    "23 варіант"
   ]
  },
  {
   "cell_type": "code",
   "execution_count": 263,
   "metadata": {},
   "outputs": [],
   "source": [
    "import numpy as np"
   ]
  },
  {
   "cell_type": "markdown",
   "metadata": {},
   "source": [
    "## Завдання 1\n",
    "\n",
    "Створіть одновимірний масив (вектор) зі значеннями квадратних коренів з кожного\n",
    "натурального числа, починаючи з 1, та виведіть його значення."
   ]
  },
  {
   "cell_type": "code",
   "execution_count": 264,
   "metadata": {},
   "outputs": [
    {
     "name": "stdout",
     "output_type": "stream",
     "text": [
      "[1.   1.41 1.73 2.   2.24 2.45 2.65 2.83 3.   3.16]\n"
     ]
    }
   ],
   "source": [
    "n = 10\n",
    "natural_numbers = np.arange(1, n+1)\n",
    "\n",
    "sqrt_array = np.round(np.sqrt(natural_numbers), 2)\n",
    "\n",
    "print(sqrt_array)"
   ]
  },
  {
   "cell_type": "markdown",
   "metadata": {},
   "source": [
    "## Завдання 2\n",
    "\n",
    "Створіть двовимірний масив (матрицю) розміром 3x3, заповніть його значеннями\n",
    "коренів 4 ступеня перших дійсних чисел."
   ]
  },
  {
   "cell_type": "code",
   "execution_count": 265,
   "metadata": {},
   "outputs": [
    {
     "name": "stdout",
     "output_type": "stream",
     "text": [
      "[[1.   1.19 1.32]\n",
      " [1.41 1.5  1.57]\n",
      " [1.63 1.68 1.73]]\n"
     ]
    }
   ],
   "source": [
    "\n",
    "matrix = np.round(np.power(np.arange(1, 10).reshape(3, 3), 1/4), 2)\n",
    "\n",
    "print(matrix)\n"
   ]
  },
  {
   "cell_type": "markdown",
   "metadata": {},
   "source": [
    "## Завдання 3\n",
    "\n",
    "Створіть масив розміром 3x3, заповніть його випадковими натуральними числами від\n",
    "1 до 50 та знайдіть суму елементів кожного рядка."
   ]
  },
  {
   "cell_type": "code",
   "execution_count": 266,
   "metadata": {},
   "outputs": [
    {
     "name": "stdout",
     "output_type": "stream",
     "text": [
      "[[13 38 21]\n",
      " [22 21 17]\n",
      " [39 23 39]]\n",
      "[ 72  60 101]\n"
     ]
    }
   ],
   "source": [
    "matrix_3 = np.random.randint(1, 51, size=(3, 3))\n",
    "\n",
    "print(matrix_3)\n",
    "print(np.sum(matrix_3, axis=1))"
   ]
  },
  {
   "cell_type": "markdown",
   "metadata": {},
   "source": [
    "## Завдання 4\n",
    "\n",
    "Створіть масив розміром 4x4, заповніть його випадковими дійсними числами від -0.9\n",
    "до 0.9 та виведіть його значення."
   ]
  },
  {
   "cell_type": "code",
   "execution_count": 267,
   "metadata": {},
   "outputs": [
    {
     "name": "stdout",
     "output_type": "stream",
     "text": [
      "[[-0.72 -0.64 -0.51 -0.51]\n",
      " [ 0.78 -0.34 -0.79 -0.14]\n",
      " [ 0.89 -0.21 -0.12  0.28]\n",
      " [-0.67 -0.09  0.19  0.8 ]]\n"
     ]
    }
   ],
   "source": [
    "matrix_4 = np.random.randint(-90, 90, size=(4, 4))\n",
    "matrix_4 = matrix_4 / 100\n",
    "\n",
    "print(matrix_4)"
   ]
  },
  {
   "cell_type": "code",
   "execution_count": 268,
   "metadata": {},
   "outputs": [
    {
     "name": "stdout",
     "output_type": "stream",
     "text": [
      "[[ 0.47  0.33  0.16 -0.04]\n",
      " [-0.05 -0.85 -0.18  0.67]\n",
      " [-0.89  0.41 -0.5   0.75]\n",
      " [ 0.2  -0.43  0.32  0.16]]\n"
     ]
    }
   ],
   "source": [
    "# або\n",
    "matrix_4_alt = np.round(np.random.uniform(-0.9, 0.9, size=(4, 4)), 2)\n",
    "\n",
    "print(matrix_4_alt)"
   ]
  },
  {
   "cell_type": "markdown",
   "metadata": {},
   "source": [
    "## Завдання 5\n",
    "\n",
    "Створіть два одновимірних масиви розміром 7, заповніть їх випадковими цілими\n",
    "числами в діапазоні від 1 до 5 та виконайте на них поелементні операції додавання,\n",
    "віднімання та множення."
   ]
  },
  {
   "cell_type": "code",
   "execution_count": 269,
   "metadata": {},
   "outputs": [
    {
     "name": "stdout",
     "output_type": "stream",
     "text": [
      "початкові кортежі\n",
      "[3 1 2 5 5 1 3]\n",
      "[1 2 2 1 4 3 3]\n",
      "додавання  [4 3 4 6 9 4 6]\n",
      "віднімання  [ 2 -1  0  4  1 -2  0]\n",
      "множення  [ 3  2  4  5 20  3  9]\n"
     ]
    }
   ],
   "source": [
    "arr5_1 = np.random.randint(1, 6, size=7)\n",
    "arr5_2 = np.random.randint(1, 6, size=7)\n",
    "\n",
    "print('початкові кортежі')\n",
    "print(arr5_1)\n",
    "print(arr5_2)\n",
    "\n",
    "print('додавання ', arr5_1 + arr5_2)\n",
    "print('віднімання ', arr5_1 - arr5_2)\n",
    "print('множення ', arr5_1 * arr5_2)"
   ]
  },
  {
   "cell_type": "markdown",
   "metadata": {},
   "source": [
    "## Завдання 6\n",
    "\n",
    "Створіть дві матриці 3x3, заповніть їх довільними цілими числами від 0 до 5 та\n",
    "знайдіть їх добуток"
   ]
  },
  {
   "cell_type": "code",
   "execution_count": 270,
   "metadata": {},
   "outputs": [
    {
     "name": "stdout",
     "output_type": "stream",
     "text": [
      "початкові матриці\n",
      "[[1 2 4]\n",
      " [1 1 2]\n",
      " [2 2 5]]\n",
      "[[2 5 5]\n",
      " [5 0 1]\n",
      " [3 4 4]]\n",
      "\n",
      "добуток матриць\n",
      " [[24 21 23]\n",
      " [13 13 14]\n",
      " [29 30 32]]\n"
     ]
    }
   ],
   "source": [
    "matrix6_1 = np.random.randint(0, 6, size=(3, 3))\n",
    "matrix6_2 = np.random.randint(0, 6, size=(3, 3))\n",
    "\n",
    "print('початкові матриці')\n",
    "print(matrix6_1)\n",
    "print(matrix6_2)\n",
    "\n",
    "print('\\nдобуток матриць\\n', np.dot(matrix6_1, matrix6_2))"
   ]
  },
  {
   "cell_type": "markdown",
   "metadata": {},
   "source": [
    "## Завдання 7\n",
    "\n",
    "Створіть дві матриці розміром 2x3 та 3x4, заповніть їх випадковими цілими числами\n",
    "в діапазоні від 1 до 7 та перемножте їх між собою."
   ]
  },
  {
   "cell_type": "code",
   "execution_count": 271,
   "metadata": {},
   "outputs": [
    {
     "name": "stdout",
     "output_type": "stream",
     "text": [
      "початкові матриці\n",
      "[[3 1 6]\n",
      " [1 6 7]]\n",
      "[[6 4 1 5]\n",
      " [7 5 1 3]\n",
      " [1 4 3 1]]\n",
      "\n",
      "готова матриця\n",
      " [[31 41 22 24]\n",
      " [55 62 28 30]]\n"
     ]
    }
   ],
   "source": [
    "matrix7_1 = np.random.randint(1, 8, size=(2, 3))\n",
    "matrix7_2 = np.random.randint(1, 8, size=(3, 4))\n",
    "\n",
    "print('початкові матриці')\n",
    "print(matrix7_1)\n",
    "print(matrix7_2)\n",
    "\n",
    "print('\\nготова матриця\\n', np.dot(matrix7_1, matrix7_2))"
   ]
  },
  {
   "cell_type": "markdown",
   "metadata": {},
   "source": [
    "## Завдання 8\n",
    "\n",
    "Створіть матрицю розміром 2x2, заповніть її випадковими цілими числами в діапазоні\n",
    "від 1 до 15 та знайдіть її обернену матрицю."
   ]
  },
  {
   "cell_type": "code",
   "execution_count": 272,
   "metadata": {},
   "outputs": [
    {
     "name": "stdout",
     "output_type": "stream",
     "text": [
      "оригінальна матриця\n",
      " [[ 2 12]\n",
      " [12  4]]\n",
      "обернена матриця\n",
      " [[-0.02941176  0.08823529]\n",
      " [ 0.08823529 -0.01470588]]\n"
     ]
    }
   ],
   "source": [
    "matrix8 = np.random.randint(1, 16, size=(2, 2))\n",
    "\n",
    "print('оригінальна матриця\\n', matrix8)\n",
    "print('обернена матриця\\n', np.linalg.inv(matrix8))"
   ]
  },
  {
   "cell_type": "markdown",
   "metadata": {},
   "source": [
    "## Завдання 9\n",
    "\n",
    "Створіть матрицю розміром 3x3, заповніть її випадковими цілими числами в діапазоні\n",
    "від 3 до 15 та транспонуйте її."
   ]
  },
  {
   "cell_type": "code",
   "execution_count": 273,
   "metadata": {},
   "outputs": [
    {
     "name": "stdout",
     "output_type": "stream",
     "text": [
      "оригінальна матриця\n",
      " [[11  8  3]\n",
      " [ 9  3 12]\n",
      " [13 14  7]]\n",
      "транспонована матриця\n",
      " [[11  9 13]\n",
      " [ 8  3 14]\n",
      " [ 3 12  7]]\n"
     ]
    }
   ],
   "source": [
    "matrix9 = np.random.randint(3, 16, size=(3, 3))\n",
    "\n",
    "print('оригінальна матриця\\n', matrix9)\n",
    "print('транспонована матриця\\n', np.transpose(matrix9))"
   ]
  },
  {
   "cell_type": "markdown",
   "metadata": {},
   "source": [
    "## Завдання 10\n",
    "\n",
    "Створіть матрицю розміром 3x4 та вектор розміром 4x1, заповніть матрицю\n",
    "випадковими цілими числами в діапазоні від 1 до 10, а вектор - випадковими цілими\n",
    "числами в діапазоні від 1 до 10, і знайдіть добуток матриці на вектор."
   ]
  },
  {
   "cell_type": "code",
   "execution_count": 274,
   "metadata": {},
   "outputs": [
    {
     "name": "stdout",
     "output_type": "stream",
     "text": [
      "матриця\n",
      " [[ 9  2  8 10]\n",
      " [ 1  4  2  5]\n",
      " [ 4  8  1  4]]\n",
      "вектор\n",
      " [[3]\n",
      " [9]\n",
      " [5]\n",
      " [5]]\n",
      "результат\n",
      " [[135]\n",
      " [ 74]\n",
      " [109]]\n"
     ]
    }
   ],
   "source": [
    "matrix10 = np.random.randint(1, 11, size=(3, 4))\n",
    "vector10 = np.random.randint(1, 11, size=(4, 1))\n",
    "\n",
    "print('матриця\\n', matrix10)\n",
    "print('вектор\\n', vector10)\n",
    "print('результат\\n', np.dot(matrix10, vector10))"
   ]
  },
  {
   "cell_type": "markdown",
   "metadata": {},
   "source": [
    "## Завдання 11\n",
    "\n",
    "Створіть матрицю розміром 2x3 та вектор розміром 3x1, заповніть матрицю\n",
    "випадковими дійсними числами від 0 до 1, а вектор - випадковими дійсними числами\n",
    "від 0 до 1, і знайдіть добуток матриці на вектор."
   ]
  },
  {
   "cell_type": "code",
   "execution_count": 275,
   "metadata": {},
   "outputs": [
    {
     "name": "stdout",
     "output_type": "stream",
     "text": [
      "матриця\n",
      " [[1.61 1.17 1.1 ]\n",
      " [0.06 0.4  0.87]]\n",
      "вектор\n",
      " [[0.57]\n",
      " [1.43]\n",
      " [0.39]]\n",
      "результат\n",
      " [[3.0198]\n",
      " [0.9455]]\n"
     ]
    }
   ],
   "source": [
    "matrix11 = np.round(np.random.uniform(0, 2, size=(2, 3)), 2)\n",
    "vector11 = np.round(np.random.uniform(0, 2, size=(3, 1)), 2)\n",
    "\n",
    "print('матриця\\n', matrix11)\n",
    "print('вектор\\n', vector11)\n",
    "\n",
    "print('результат\\n', np.dot(matrix11, vector11))"
   ]
  },
  {
   "cell_type": "markdown",
   "metadata": {},
   "source": [
    "## Завддання 12\n",
    "\n",
    "Створіть дві матриці розміром 3x3, заповніть їх випадковими цілими числами в\n",
    "діапазоні від 1 до 5 та знайдіть добуток всіх елементів першої матриці."
   ]
  },
  {
   "cell_type": "code",
   "execution_count": 276,
   "metadata": {},
   "outputs": [
    {
     "name": "stdout",
     "output_type": "stream",
     "text": [
      "[[1 1 1]\n",
      " [3 4 5]\n",
      " [3 4 2]]\n",
      "[[3 3 2]\n",
      " [4 3 2]\n",
      " [4 3 4]]\n",
      "добуток всіх елементів першої матриці 1440\n"
     ]
    }
   ],
   "source": [
    "matrix12_1 = np.random.randint(1, 6, size=(3, 3))\n",
    "matrix12_2 = np.random.randint(1, 6, size=(3, 3))\n",
    "\n",
    "print(matrix12_1)\n",
    "print(matrix12_2)\n",
    "\n",
    "print('добуток всіх елементів першої матриці', np.prod(matrix12_1))"
   ]
  },
  {
   "cell_type": "markdown",
   "metadata": {},
   "source": [
    "## Завдання 13\n",
    "\n",
    "Створіть дві матриці розміром 3x3, заповніть їх випадковими дійсними числами в\n",
    "діапазоні від -1 до 1 та знайдіть різницю їх елементів."
   ]
  },
  {
   "cell_type": "code",
   "execution_count": 277,
   "metadata": {},
   "outputs": [
    {
     "name": "stdout",
     "output_type": "stream",
     "text": [
      "матриця1\n",
      " [[-0.53 -0.1  -0.87]\n",
      " [-0.1   0.38 -0.59]\n",
      " [ 0.96  0.4   0.29]]\n",
      "матриця2\n",
      " [[-0.34  0.89  0.08]\n",
      " [ 0.48  0.52 -0.98]\n",
      " [-0.58  0.01 -0.32]]\n",
      "їх різниця елементів\n",
      " [[-0.19 -0.99 -0.95]\n",
      " [-0.58 -0.14  0.39]\n",
      " [ 1.54  0.39  0.61]]\n"
     ]
    }
   ],
   "source": [
    "matrix13_1 = np.round(np.random.uniform(-1, 1, size=(3, 3)), 2)\n",
    "matrix13_2 = np.round(np.random.uniform(-1, 1, size=(3, 3)), 2)\n",
    "\n",
    "print('матриця1\\n', matrix13_1)\n",
    "print('матриця2\\n', matrix13_2)\n",
    "\n",
    "print('їх різниця елементів\\n', matrix13_1 - matrix13_2)"
   ]
  },
  {
   "cell_type": "markdown",
   "metadata": {},
   "source": [
    "## Завдання 14\n",
    "\n",
    "Створіть матрицю розміром 3x3, заповніть її випадковими дійсними числами в\n",
    "діапазоні від -3 до 3 та знайдіть суму елементів на головній діагоналі."
   ]
  },
  {
   "cell_type": "code",
   "execution_count": 278,
   "metadata": {},
   "outputs": [
    {
     "name": "stdout",
     "output_type": "stream",
     "text": [
      "матриця\n",
      " [[-2.2  -1.39 -1.12]\n",
      " [-2.55  0.57  1.81]\n",
      " [-1.83 -1.74 -2.29]]\n",
      "сума на головній діагоналі  -3.9200000000000004\n"
     ]
    }
   ],
   "source": [
    "matrix14 = np.round(np.random.uniform(-3, 3, size=(3, 3)), 2)\n",
    "\n",
    "print('матриця\\n', matrix14)\n",
    "print('сума на головній діагоналі ', np.trace(matrix14))"
   ]
  },
  {
   "cell_type": "markdown",
   "metadata": {},
   "source": [
    "## Завдання 15\n",
    "\n",
    "Створіть матрицю розміром 3x3, заповніть її випадковими дійсними числами в\n",
    "діапазоні від -0.5 до 0.5 та знайдіть вектор-стовпчик, що містить суму елементів\n",
    "кожного стовпця матриці."
   ]
  },
  {
   "cell_type": "code",
   "execution_count": 279,
   "metadata": {},
   "outputs": [
    {
     "name": "stdout",
     "output_type": "stream",
     "text": [
      "матриця\n",
      " [[-0.394  0.187  0.448]\n",
      " [ 0.374 -0.359 -0.224]\n",
      " [ 0.334 -0.207  0.378]]\n",
      "вектор\n",
      " [[ 0.314]\n",
      " [-0.379]\n",
      " [ 0.602]]\n"
     ]
    }
   ],
   "source": [
    "matrix15 = np.round(np.random.uniform(-0.5, 0.5, size=(3, 3)),3)\n",
    "\n",
    "print('матриця\\n', matrix15)\n",
    "column_sums = np.sum(matrix15, axis=0)\n",
    "column_sums_vector = column_sums.reshape(-1, 1)\n",
    "print('вектор\\n',column_sums_vector)"
   ]
  }
 ],
 "metadata": {
  "kernelspec": {
   "display_name": "Python 3",
   "language": "python",
   "name": "python3"
  },
  "language_info": {
   "codemirror_mode": {
    "name": "ipython",
    "version": 3
   },
   "file_extension": ".py",
   "mimetype": "text/x-python",
   "name": "python",
   "nbconvert_exporter": "python",
   "pygments_lexer": "ipython3",
   "version": "3.10.12"
  }
 },
 "nbformat": 4,
 "nbformat_minor": 2
}
