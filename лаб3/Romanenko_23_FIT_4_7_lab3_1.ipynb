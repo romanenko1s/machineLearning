{
 "cells": [
  {
   "cell_type": "markdown",
   "metadata": {},
   "source": [
    "# Лабораторна робота 3 (1 частина)\n",
    "\n",
    "Романенко Ілля ФІТ 4-7\n",
    "\n",
    "23 варіант"
   ]
  },
  {
   "cell_type": "code",
   "execution_count": 1430,
   "metadata": {},
   "outputs": [],
   "source": [
    "import pandas as pd\n",
    "import seaborn as sns\n",
    "import matplotlib.pyplot as plt\n",
    "\n",
    "from sklearn.model_selection import train_test_split\n",
    "from sklearn.linear_model import LinearRegression\n",
    "from sklearn.ensemble import RandomForestRegressor\n",
    "from sklearn.metrics import mean_squared_error, r2_score\n",
    "from sklearn.preprocessing import StandardScaler"
   ]
  },
  {
   "cell_type": "markdown",
   "metadata": {},
   "source": [
    "## Крок 1\n",
    "\n",
    "Завантажуємо датасет diabetes dataset, та виведемо перші 5 рядків"
   ]
  },
  {
   "cell_type": "code",
   "execution_count": 1431,
   "metadata": {},
   "outputs": [
    {
     "data": {
      "text/html": [
       "<div>\n",
       "<style scoped>\n",
       "    .dataframe tbody tr th:only-of-type {\n",
       "        vertical-align: middle;\n",
       "    }\n",
       "\n",
       "    .dataframe tbody tr th {\n",
       "        vertical-align: top;\n",
       "    }\n",
       "\n",
       "    .dataframe thead th {\n",
       "        text-align: right;\n",
       "    }\n",
       "</style>\n",
       "<table border=\"1\" class=\"dataframe\">\n",
       "  <thead>\n",
       "    <tr style=\"text-align: right;\">\n",
       "      <th></th>\n",
       "      <th>age</th>\n",
       "      <th>sex</th>\n",
       "      <th>bmi</th>\n",
       "      <th>bp</th>\n",
       "      <th>s1</th>\n",
       "      <th>s2</th>\n",
       "      <th>s3</th>\n",
       "      <th>s4</th>\n",
       "      <th>s5</th>\n",
       "      <th>s6</th>\n",
       "      <th>target</th>\n",
       "    </tr>\n",
       "  </thead>\n",
       "  <tbody>\n",
       "    <tr>\n",
       "      <th>0</th>\n",
       "      <td>0.038076</td>\n",
       "      <td>0.050680</td>\n",
       "      <td>0.061696</td>\n",
       "      <td>0.021872</td>\n",
       "      <td>-0.044223</td>\n",
       "      <td>-0.034821</td>\n",
       "      <td>-0.043401</td>\n",
       "      <td>-0.002592</td>\n",
       "      <td>0.019907</td>\n",
       "      <td>-0.017646</td>\n",
       "      <td>151.0</td>\n",
       "    </tr>\n",
       "    <tr>\n",
       "      <th>1</th>\n",
       "      <td>-0.001882</td>\n",
       "      <td>-0.044642</td>\n",
       "      <td>-0.051474</td>\n",
       "      <td>-0.026328</td>\n",
       "      <td>-0.008449</td>\n",
       "      <td>-0.019163</td>\n",
       "      <td>0.074412</td>\n",
       "      <td>-0.039493</td>\n",
       "      <td>-0.068332</td>\n",
       "      <td>-0.092204</td>\n",
       "      <td>75.0</td>\n",
       "    </tr>\n",
       "    <tr>\n",
       "      <th>2</th>\n",
       "      <td>0.085299</td>\n",
       "      <td>0.050680</td>\n",
       "      <td>0.044451</td>\n",
       "      <td>-0.005670</td>\n",
       "      <td>-0.045599</td>\n",
       "      <td>-0.034194</td>\n",
       "      <td>-0.032356</td>\n",
       "      <td>-0.002592</td>\n",
       "      <td>0.002861</td>\n",
       "      <td>-0.025930</td>\n",
       "      <td>141.0</td>\n",
       "    </tr>\n",
       "    <tr>\n",
       "      <th>3</th>\n",
       "      <td>-0.089063</td>\n",
       "      <td>-0.044642</td>\n",
       "      <td>-0.011595</td>\n",
       "      <td>-0.036656</td>\n",
       "      <td>0.012191</td>\n",
       "      <td>0.024991</td>\n",
       "      <td>-0.036038</td>\n",
       "      <td>0.034309</td>\n",
       "      <td>0.022688</td>\n",
       "      <td>-0.009362</td>\n",
       "      <td>206.0</td>\n",
       "    </tr>\n",
       "    <tr>\n",
       "      <th>4</th>\n",
       "      <td>0.005383</td>\n",
       "      <td>-0.044642</td>\n",
       "      <td>-0.036385</td>\n",
       "      <td>0.021872</td>\n",
       "      <td>0.003935</td>\n",
       "      <td>0.015596</td>\n",
       "      <td>0.008142</td>\n",
       "      <td>-0.002592</td>\n",
       "      <td>-0.031988</td>\n",
       "      <td>-0.046641</td>\n",
       "      <td>135.0</td>\n",
       "    </tr>\n",
       "  </tbody>\n",
       "</table>\n",
       "</div>"
      ],
      "text/plain": [
       "        age       sex       bmi        bp        s1        s2        s3  \\\n",
       "0  0.038076  0.050680  0.061696  0.021872 -0.044223 -0.034821 -0.043401   \n",
       "1 -0.001882 -0.044642 -0.051474 -0.026328 -0.008449 -0.019163  0.074412   \n",
       "2  0.085299  0.050680  0.044451 -0.005670 -0.045599 -0.034194 -0.032356   \n",
       "3 -0.089063 -0.044642 -0.011595 -0.036656  0.012191  0.024991 -0.036038   \n",
       "4  0.005383 -0.044642 -0.036385  0.021872  0.003935  0.015596  0.008142   \n",
       "\n",
       "         s4        s5        s6  target  \n",
       "0 -0.002592  0.019907 -0.017646   151.0  \n",
       "1 -0.039493 -0.068332 -0.092204    75.0  \n",
       "2 -0.002592  0.002861 -0.025930   141.0  \n",
       "3  0.034309  0.022688 -0.009362   206.0  \n",
       "4 -0.002592 -0.031988 -0.046641   135.0  "
      ]
     },
     "execution_count": 1431,
     "metadata": {},
     "output_type": "execute_result"
    }
   ],
   "source": [
    "from sklearn.datasets import load_diabetes\n",
    "\n",
    "data = load_diabetes()\n",
    "X, y = data.data, data.target\n",
    "\n",
    "dataFrame = pd.DataFrame(X, columns=data.feature_names)\n",
    "dataFrame['target'] = y\n",
    "\n",
    "dataFrame.head(5)"
   ]
  },
  {
   "cell_type": "markdown",
   "metadata": {},
   "source": [
    "## Крок 2\n",
    "\n",
    "Перевіримо наявність пропусків"
   ]
  },
  {
   "cell_type": "code",
   "execution_count": 1432,
   "metadata": {},
   "outputs": [
    {
     "data": {
      "text/plain": [
       "0"
      ]
     },
     "execution_count": 1432,
     "metadata": {},
     "output_type": "execute_result"
    }
   ],
   "source": [
    "dataFrame.isna().sum().sum()"
   ]
  },
  {
   "cell_type": "markdown",
   "metadata": {},
   "source": [
    "## Крок 3\n",
    "\n",
    "Перевіримо наявність дублікатів"
   ]
  },
  {
   "cell_type": "code",
   "execution_count": 1433,
   "metadata": {},
   "outputs": [
    {
     "data": {
      "text/plain": [
       "0"
      ]
     },
     "execution_count": 1433,
     "metadata": {},
     "output_type": "execute_result"
    }
   ],
   "source": [
    "dataFrame.duplicated().sum()"
   ]
  },
  {
   "cell_type": "markdown",
   "metadata": {},
   "source": [
    "## Крок 4"
   ]
  },
  {
   "cell_type": "code",
   "execution_count": 1434,
   "metadata": {},
   "outputs": [
    {
     "name": "stdout",
     "output_type": "stream",
     "text": [
      "типи даних по колонках:\n",
      " age       float64\n",
      "sex       float64\n",
      "bmi       float64\n",
      "bp        float64\n",
      "s1        float64\n",
      "s2        float64\n",
      "s3        float64\n",
      "s4        float64\n",
      "s5        float64\n",
      "s6        float64\n",
      "target    float64\n",
      "dtype: object\n"
     ]
    }
   ],
   "source": [
    "print('типи даних по колонках:\\n',  dataFrame.dtypes)"
   ]
  },
  {
   "cell_type": "markdown",
   "metadata": {},
   "source": [
    "## Крок 5\n",
    "\n",
    "Замінимо бінарні ознаки статі на 1 та 0"
   ]
  },
  {
   "cell_type": "code",
   "execution_count": 1435,
   "metadata": {},
   "outputs": [
    {
     "name": "stdout",
     "output_type": "stream",
     "text": [
      "[ 0.05068012 -0.04464164]\n"
     ]
    }
   ],
   "source": [
    "uniqueSex = dataFrame['sex'].unique()\n",
    "print(uniqueSex)"
   ]
  },
  {
   "cell_type": "code",
   "execution_count": 1436,
   "metadata": {},
   "outputs": [
    {
     "data": {
      "text/html": [
       "<div>\n",
       "<style scoped>\n",
       "    .dataframe tbody tr th:only-of-type {\n",
       "        vertical-align: middle;\n",
       "    }\n",
       "\n",
       "    .dataframe tbody tr th {\n",
       "        vertical-align: top;\n",
       "    }\n",
       "\n",
       "    .dataframe thead th {\n",
       "        text-align: right;\n",
       "    }\n",
       "</style>\n",
       "<table border=\"1\" class=\"dataframe\">\n",
       "  <thead>\n",
       "    <tr style=\"text-align: right;\">\n",
       "      <th></th>\n",
       "      <th>age</th>\n",
       "      <th>sex</th>\n",
       "      <th>bmi</th>\n",
       "      <th>bp</th>\n",
       "      <th>s1</th>\n",
       "      <th>s2</th>\n",
       "      <th>s3</th>\n",
       "      <th>s4</th>\n",
       "      <th>s5</th>\n",
       "      <th>s6</th>\n",
       "      <th>target</th>\n",
       "    </tr>\n",
       "  </thead>\n",
       "  <tbody>\n",
       "    <tr>\n",
       "      <th>0</th>\n",
       "      <td>0.038076</td>\n",
       "      <td>1</td>\n",
       "      <td>0.061696</td>\n",
       "      <td>0.021872</td>\n",
       "      <td>-0.044223</td>\n",
       "      <td>-0.034821</td>\n",
       "      <td>-0.043401</td>\n",
       "      <td>-0.002592</td>\n",
       "      <td>0.019907</td>\n",
       "      <td>-0.017646</td>\n",
       "      <td>151.0</td>\n",
       "    </tr>\n",
       "    <tr>\n",
       "      <th>1</th>\n",
       "      <td>-0.001882</td>\n",
       "      <td>0</td>\n",
       "      <td>-0.051474</td>\n",
       "      <td>-0.026328</td>\n",
       "      <td>-0.008449</td>\n",
       "      <td>-0.019163</td>\n",
       "      <td>0.074412</td>\n",
       "      <td>-0.039493</td>\n",
       "      <td>-0.068332</td>\n",
       "      <td>-0.092204</td>\n",
       "      <td>75.0</td>\n",
       "    </tr>\n",
       "    <tr>\n",
       "      <th>2</th>\n",
       "      <td>0.085299</td>\n",
       "      <td>1</td>\n",
       "      <td>0.044451</td>\n",
       "      <td>-0.005670</td>\n",
       "      <td>-0.045599</td>\n",
       "      <td>-0.034194</td>\n",
       "      <td>-0.032356</td>\n",
       "      <td>-0.002592</td>\n",
       "      <td>0.002861</td>\n",
       "      <td>-0.025930</td>\n",
       "      <td>141.0</td>\n",
       "    </tr>\n",
       "    <tr>\n",
       "      <th>3</th>\n",
       "      <td>-0.089063</td>\n",
       "      <td>0</td>\n",
       "      <td>-0.011595</td>\n",
       "      <td>-0.036656</td>\n",
       "      <td>0.012191</td>\n",
       "      <td>0.024991</td>\n",
       "      <td>-0.036038</td>\n",
       "      <td>0.034309</td>\n",
       "      <td>0.022688</td>\n",
       "      <td>-0.009362</td>\n",
       "      <td>206.0</td>\n",
       "    </tr>\n",
       "    <tr>\n",
       "      <th>4</th>\n",
       "      <td>0.005383</td>\n",
       "      <td>0</td>\n",
       "      <td>-0.036385</td>\n",
       "      <td>0.021872</td>\n",
       "      <td>0.003935</td>\n",
       "      <td>0.015596</td>\n",
       "      <td>0.008142</td>\n",
       "      <td>-0.002592</td>\n",
       "      <td>-0.031988</td>\n",
       "      <td>-0.046641</td>\n",
       "      <td>135.0</td>\n",
       "    </tr>\n",
       "  </tbody>\n",
       "</table>\n",
       "</div>"
      ],
      "text/plain": [
       "        age  sex       bmi        bp        s1        s2        s3        s4  \\\n",
       "0  0.038076    1  0.061696  0.021872 -0.044223 -0.034821 -0.043401 -0.002592   \n",
       "1 -0.001882    0 -0.051474 -0.026328 -0.008449 -0.019163  0.074412 -0.039493   \n",
       "2  0.085299    1  0.044451 -0.005670 -0.045599 -0.034194 -0.032356 -0.002592   \n",
       "3 -0.089063    0 -0.011595 -0.036656  0.012191  0.024991 -0.036038  0.034309   \n",
       "4  0.005383    0 -0.036385  0.021872  0.003935  0.015596  0.008142 -0.002592   \n",
       "\n",
       "         s5        s6  target  \n",
       "0  0.019907 -0.017646   151.0  \n",
       "1 -0.068332 -0.092204    75.0  \n",
       "2  0.002861 -0.025930   141.0  \n",
       "3  0.022688 -0.009362   206.0  \n",
       "4 -0.031988 -0.046641   135.0  "
      ]
     },
     "execution_count": 1436,
     "metadata": {},
     "output_type": "execute_result"
    }
   ],
   "source": [
    "# таким чином ми замніюємо значення 0.05068012 на 1, а -0.04464164 на 0 \n",
    "# метод .replace() тут не спрацював\n",
    "dataFrame['sex'] = (dataFrame['sex'] > 0).astype(int)\n",
    "\n",
    "dataFrame.head(5)"
   ]
  },
  {
   "cell_type": "markdown",
   "metadata": {},
   "source": [
    "Перевіримо унікальні значення в стопвчику вік"
   ]
  },
  {
   "cell_type": "code",
   "execution_count": 1437,
   "metadata": {},
   "outputs": [
    {
     "name": "stdout",
     "output_type": "stream",
     "text": [
      "[ 0.03807591 -0.00188202  0.08529891 -0.08906294  0.00538306 -0.09269548\n",
      " -0.04547248  0.06350368  0.04170844 -0.07090025 -0.09632802  0.02717829\n",
      "  0.01628068  0.04534098 -0.05273755 -0.00551455  0.07076875 -0.0382074\n",
      " -0.02730979 -0.04910502 -0.0854304  -0.06363517 -0.06726771 -0.10722563\n",
      " -0.02367725  0.05260606  0.06713621 -0.06000263  0.03444337  0.03081083\n",
      "  0.04897352  0.01264814 -0.00914709 -0.09996055  0.01991321 -0.05637009\n",
      " -0.07816532 -0.04183994  0.05987114 -0.03457486 -0.03094232 -0.10359309\n",
      " -0.01641217  0.00175052 -0.02004471  0.0562386   0.02354575  0.0090156\n",
      " -0.07453279 -0.01277963 -0.08179786  0.08166637  0.11072668  0.09256398\n",
      "  0.07440129  0.07803383  0.09619652  0.08893144]\n"
     ]
    }
   ],
   "source": [
    "uniqueAges = dataFrame['age'].unique()\n",
    "print(uniqueAges)"
   ]
  },
  {
   "cell_type": "markdown",
   "metadata": {},
   "source": [
    "Також замінимо значення віку людини на 1 та 0, відповідно до середнього медіанного значення в окремій вибірці."
   ]
  },
  {
   "cell_type": "code",
   "execution_count": 1438,
   "metadata": {},
   "outputs": [
    {
     "data": {
      "text/html": [
       "<div>\n",
       "<style scoped>\n",
       "    .dataframe tbody tr th:only-of-type {\n",
       "        vertical-align: middle;\n",
       "    }\n",
       "\n",
       "    .dataframe tbody tr th {\n",
       "        vertical-align: top;\n",
       "    }\n",
       "\n",
       "    .dataframe thead th {\n",
       "        text-align: right;\n",
       "    }\n",
       "</style>\n",
       "<table border=\"1\" class=\"dataframe\">\n",
       "  <thead>\n",
       "    <tr style=\"text-align: right;\">\n",
       "      <th></th>\n",
       "      <th>age</th>\n",
       "      <th>sex</th>\n",
       "      <th>bmi</th>\n",
       "      <th>bp</th>\n",
       "      <th>s1</th>\n",
       "      <th>s2</th>\n",
       "      <th>s3</th>\n",
       "      <th>s4</th>\n",
       "      <th>s5</th>\n",
       "      <th>s6</th>\n",
       "      <th>target</th>\n",
       "    </tr>\n",
       "  </thead>\n",
       "  <tbody>\n",
       "    <tr>\n",
       "      <th>0</th>\n",
       "      <td>1</td>\n",
       "      <td>1</td>\n",
       "      <td>0.061696</td>\n",
       "      <td>0.021872</td>\n",
       "      <td>-0.044223</td>\n",
       "      <td>-0.034821</td>\n",
       "      <td>-0.043401</td>\n",
       "      <td>-0.002592</td>\n",
       "      <td>0.019907</td>\n",
       "      <td>-0.017646</td>\n",
       "      <td>151.0</td>\n",
       "    </tr>\n",
       "    <tr>\n",
       "      <th>1</th>\n",
       "      <td>0</td>\n",
       "      <td>0</td>\n",
       "      <td>-0.051474</td>\n",
       "      <td>-0.026328</td>\n",
       "      <td>-0.008449</td>\n",
       "      <td>-0.019163</td>\n",
       "      <td>0.074412</td>\n",
       "      <td>-0.039493</td>\n",
       "      <td>-0.068332</td>\n",
       "      <td>-0.092204</td>\n",
       "      <td>75.0</td>\n",
       "    </tr>\n",
       "    <tr>\n",
       "      <th>2</th>\n",
       "      <td>1</td>\n",
       "      <td>1</td>\n",
       "      <td>0.044451</td>\n",
       "      <td>-0.005670</td>\n",
       "      <td>-0.045599</td>\n",
       "      <td>-0.034194</td>\n",
       "      <td>-0.032356</td>\n",
       "      <td>-0.002592</td>\n",
       "      <td>0.002861</td>\n",
       "      <td>-0.025930</td>\n",
       "      <td>141.0</td>\n",
       "    </tr>\n",
       "    <tr>\n",
       "      <th>3</th>\n",
       "      <td>0</td>\n",
       "      <td>0</td>\n",
       "      <td>-0.011595</td>\n",
       "      <td>-0.036656</td>\n",
       "      <td>0.012191</td>\n",
       "      <td>0.024991</td>\n",
       "      <td>-0.036038</td>\n",
       "      <td>0.034309</td>\n",
       "      <td>0.022688</td>\n",
       "      <td>-0.009362</td>\n",
       "      <td>206.0</td>\n",
       "    </tr>\n",
       "    <tr>\n",
       "      <th>4</th>\n",
       "      <td>1</td>\n",
       "      <td>0</td>\n",
       "      <td>-0.036385</td>\n",
       "      <td>0.021872</td>\n",
       "      <td>0.003935</td>\n",
       "      <td>0.015596</td>\n",
       "      <td>0.008142</td>\n",
       "      <td>-0.002592</td>\n",
       "      <td>-0.031988</td>\n",
       "      <td>-0.046641</td>\n",
       "      <td>135.0</td>\n",
       "    </tr>\n",
       "  </tbody>\n",
       "</table>\n",
       "</div>"
      ],
      "text/plain": [
       "   age  sex       bmi        bp        s1        s2        s3        s4  \\\n",
       "0    1    1  0.061696  0.021872 -0.044223 -0.034821 -0.043401 -0.002592   \n",
       "1    0    0 -0.051474 -0.026328 -0.008449 -0.019163  0.074412 -0.039493   \n",
       "2    1    1  0.044451 -0.005670 -0.045599 -0.034194 -0.032356 -0.002592   \n",
       "3    0    0 -0.011595 -0.036656  0.012191  0.024991 -0.036038  0.034309   \n",
       "4    1    0 -0.036385  0.021872  0.003935  0.015596  0.008142 -0.002592   \n",
       "\n",
       "         s5        s6  target  \n",
       "0  0.019907 -0.017646   151.0  \n",
       "1 -0.068332 -0.092204    75.0  \n",
       "2  0.002861 -0.025930   141.0  \n",
       "3  0.022688 -0.009362   206.0  \n",
       "4 -0.031988 -0.046641   135.0  "
      ]
     },
     "execution_count": 1438,
     "metadata": {},
     "output_type": "execute_result"
    }
   ],
   "source": [
    "meanAge = dataFrame['age'].mean()\n",
    "dataFrameAge = dataFrame.copy()\n",
    "dataFrameAge['age'] = (dataFrameAge['age'] > meanAge).astype(int)\n",
    "\n",
    "dataFrameAge.head()"
   ]
  },
  {
   "cell_type": "markdown",
   "metadata": {},
   "source": [
    "## Крок 6\n",
    "\n",
    "Проаналізуємо кореляції між прогресом діабету і іншими ознаками"
   ]
  },
  {
   "cell_type": "code",
   "execution_count": 1439,
   "metadata": {},
   "outputs": [
    {
     "name": "stdout",
     "output_type": "stream",
     "text": [
      "матриця кореляцій:\n",
      "              age       sex       bmi        bp    target\n",
      "age     1.000000  0.173737  0.185085  0.335428  0.187889\n",
      "sex     0.173737  1.000000  0.088161  0.241010  0.043062\n",
      "bmi     0.185085  0.088161  1.000000  0.395411  0.586450\n",
      "bp      0.335428  0.241010  0.395411  1.000000  0.441482\n",
      "target  0.187889  0.043062  0.586450  0.441482  1.000000\n"
     ]
    }
   ],
   "source": [
    "correlationMatrix = dataFrame[['age', 'sex', 'bmi', 'bp', 'target']].corr()\n",
    "print('матриця кореляцій:\\n', correlationMatrix)"
   ]
  },
  {
   "cell_type": "code",
   "execution_count": 1440,
   "metadata": {},
   "outputs": [
    {
     "name": "stdout",
     "output_type": "stream",
     "text": [
      "\n",
      "Кореляція між прогресом діабету і іншими ознаками:\n",
      " bmi    0.586450\n",
      "bp     0.441482\n",
      "age    0.187889\n",
      "sex    0.043062\n",
      "Name: target, dtype: float64\n"
     ]
    }
   ],
   "source": [
    "targetСorrelation = correlationMatrix['target'].drop('target').sort_values(ascending=False)\n",
    "print('\\nКореляція між прогресом діабету і іншими ознаками:\\n', targetСorrelation)"
   ]
  },
  {
   "cell_type": "code",
   "execution_count": 1441,
   "metadata": {},
   "outputs": [
    {
     "data": {
      "image/png": "[encoded data removed]",
      "text/plain": [
       "<Figure size 1000x800 with 2 Axes>"
      ]
     },
     "metadata": {},
     "output_type": "display_data"
    }
   ],
   "source": [
    "plt.figure(figsize=(10, 8))\n",
    "sns.heatmap(correlationMatrix, annot=True, cmap='coolwarm', fmt='.2f')\n",
    "plt.title('Теплова карта кореляції')\n",
    "plt.show()"
   ]
  },
  {
   "cell_type": "markdown",
   "metadata": {},
   "source": [
    "Наглядно можемо бачити, що найбільшу кореляцію з прогресом діабету, серед інших ознак пацієнта, є bmi (Індекс маси тіла). Отже можна сказати що пацієнти з підвищенним bmi мають швидший прогрес діабету. Також"
   ]
  },
  {
   "cell_type": "markdown",
   "metadata": {},
   "source": [
    "## Крок 7\n",
    "\n",
    "Масштабуємо ознаки"
   ]
  },
  {
   "cell_type": "code",
   "execution_count": 1442,
   "metadata": {},
   "outputs": [],
   "source": [
    "dataFrameOriginal = dataFrame.copy()\n",
    "\n",
    "scaledFeatures = StandardScaler().fit_transform(dataFrame.drop('target', axis=1))\n",
    "\n",
    "dataFrame = pd.DataFrame(scaledFeatures, columns=data.feature_names)\n",
    "dataFrame['target'] = y\n",
    "\n",
    "# dataFrameS.head()\n",
    "\n",
    "scaler = StandardScaler()\n",
    "X_scaled = scaler.fit_transform(dataFrame.drop('target', axis=1))"
   ]
  },
  {
   "cell_type": "markdown",
   "metadata": {},
   "source": [
    "## Крок 8\n",
    "\n",
    "Поділимо дані на тренувальну і тестову вибірку"
   ]
  },
  {
   "cell_type": "code",
   "execution_count": 1443,
   "metadata": {},
   "outputs": [
    {
     "name": "stdout",
     "output_type": "stream",
     "text": [
      "Тренувальна вибірка: (353, 10)\n",
      "Тестова вибірка: (89, 10)\n"
     ]
    }
   ],
   "source": [
    "\n",
    "\n",
    "# Поділ на тренувальну і тестову вибірки (80% - тренувальні, 20% - тестові)\n",
    "X_train, X_test, y_train, y_test = train_test_split(X_scaled, y, test_size=0.20, random_state=42)\n",
    "\n",
    "print(\"Тренувальна вибірка:\", X_train.shape)\n",
    "print(\"Тестова вибірка:\", X_test.shape)"
   ]
  },
  {
   "cell_type": "markdown",
   "metadata": {},
   "source": [
    "## Крок 9\n",
    "\n",
    "Побудуємо модель лінійної регресії і random forest регресії"
   ]
  },
  {
   "cell_type": "code",
   "execution_count": 1444,
   "metadata": {},
   "outputs": [
    {
     "name": "stdout",
     "output_type": "stream",
     "text": [
      "Лінійна регресія: MSE = 2900.1936284934823 , R2 = 0.45260276297191926\n",
      "Random Forest регресія: MSE = 2944.272397572967 , R2 = 0.4442831128048915\n"
     ]
    }
   ],
   "source": [
    "# лінійна регресія\n",
    "lin_reg = LinearRegression()\n",
    "lin_reg.fit(X_train, y_train)\n",
    "y_pred_lin = lin_reg.predict(X_test)\n",
    "\n",
    "mse_lin = mean_squared_error(y_test, y_pred_lin)\n",
    "r2_lin = r2_score(y_test, y_pred_lin)\n",
    "\n",
    "# Random Forest регресія\n",
    "rf_reg = RandomForestRegressor(random_state=42, n_estimators=97)\n",
    "rf_reg.fit(X_train, y_train)\n",
    "y_pred_rf = rf_reg.predict(X_test)\n",
    "\n",
    "mse_rf = mean_squared_error(y_test, y_pred_rf)\n",
    "r2_rf = r2_score(y_test, y_pred_rf)\n",
    "\n",
    "print(\"Лінійна регресія: MSE =\", mse_lin, \", R2 =\", r2_lin)\n",
    "print(\"Random Forest регресія: MSE =\", mse_rf, \", R2 =\", r2_rf)"
   ]
  },
  {
   "cell_type": "markdown",
   "metadata": {},
   "source": [
    "як можемо бачити, лінійна регресія показала себе краще за рандом форест в даному випадку, хоча й помилка в 2900 в обох моделях є досить жахливим результатом"
   ]
  },
  {
   "cell_type": "markdown",
   "metadata": {},
   "source": [
    "## Крок 10\n",
    "\n",
    "побудуємо графіки"
   ]
  },
  {
   "cell_type": "code",
   "execution_count": 1445,
   "metadata": {},
   "outputs": [
    {
     "data": {
      "image/png": "[encoded data removed]",
      "text/plain": [
       "<Figure size 640x480 with 1 Axes>"
      ]
     },
     "metadata": {},
     "output_type": "display_data"
    }
   ],
   "source": [
    "diabetesTarget = dataFrameOriginal.groupby(['bmi'])['target'].mean()\n",
    "\n",
    "fig, ax = plt.subplots()\n",
    "\n",
    "diabetesTarget.plot(kind='area', color=['lightblue'], ax=ax)\n",
    "\n",
    "ax.set_xlabel('bmi')\n",
    "ax.set_ylabel('target')\n",
    "ax.set_title('Залежність прогресу діабету від bmi')\n",
    "\n",
    "plt.show()"
   ]
  },
  {
   "cell_type": "code",
   "execution_count": 1446,
   "metadata": {},
   "outputs": [
    {
     "data": {
      "image/png": "[encoded data removed]",
      "text/plain": [
       "<Figure size 640x480 with 1 Axes>"
      ]
     },
     "metadata": {},
     "output_type": "display_data"
    }
   ],
   "source": [
    "bins = [-0.2, -0.15, -0.12, -0.1, -0.05, 0, 0.05, 0.08, 0.1, 0.12, 0.15]\n",
    "labels = ['-0.15', '-0.12', '-0.1', '-0.05', '0', '0.05', '0.07','0.1', '0.12', '0.15']\n",
    "\n",
    "dataFrameOriginal['TargetBP'] = pd.cut(dataFrameOriginal['bp'], bins=bins, labels=labels, right=False)\n",
    "\n",
    "survivalRate = dataFrameOriginal.groupby('TargetBP')['target'].mean()\n",
    "dataFrameOriginal = dataFrameOriginal.drop(['TargetBP'], axis=1)\n",
    "\n",
    "fig, ax = plt.subplots()\n",
    "\n",
    "survivalRate.plot(kind='bar', color='skyblue', ax=ax)\n",
    "\n",
    "ax.plot(survivalRate.index[1:],\n",
    "        survivalRate.values[1:], \n",
    "        color='red',\n",
    "        linestyle='-',\n",
    "        linewidth=3)\n",
    "\n",
    "ax.set_xlabel('кров’яний тиск')\n",
    "ax.set_ylabel('прогрес діабету')\n",
    "\n",
    "plt.show()"
   ]
  },
  {
   "cell_type": "markdown",
   "metadata": {},
   "source": [
    "## Висновки\n",
    "\n",
    "- найбільшими кореляційними ознаками розвитку діабету є bmi(індекс маси тіла), та bp(тиск крові), стать та вік вплиають на цей показник досить слабко\n",
    "\n",
    "- значення розвитку діабету, статистично лінійно збільшується відносно збільшення параметрів bmi і bp,\n",
    "\n",
    "- лінійна регресивна модель показала себе краще за модель random forest"
   ]
  }
 ],
 "metadata": {
  "kernelspec": {
   "display_name": "Python 3",
   "language": "python",
   "name": "python3"
  },
  "language_info": {
   "codemirror_mode": {
    "name": "ipython",
    "version": 3
   },
   "file_extension": ".py",
   "mimetype": "text/x-python",
   "name": "python",
   "nbconvert_exporter": "python",
   "pygments_lexer": "ipython3",
   "version": "3.10.12"
  }
 },
 "nbformat": 4,
 "nbformat_minor": 2
}
