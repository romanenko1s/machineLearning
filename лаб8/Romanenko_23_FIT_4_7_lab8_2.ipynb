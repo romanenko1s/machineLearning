{
 "cells": [
  {
   "cell_type": "markdown",
   "metadata": {},
   "source": [
    "# Лабораторна робота 8 (2 частина)\n",
    "\n",
    "Романенко Ілля ФІТ 4-7\n",
    "\n",
    "!!! ця робота була виконана локально, тому всі файли моделі були збережені також локально"
   ]
  },
  {
   "cell_type": "code",
   "execution_count": 1,
   "metadata": {},
   "outputs": [],
   "source": [
    "# !pip install tensorflow\n",
    "# !pip install --upgrade keras\n",
    "# !pip install keras-tuner"
   ]
  },
  {
   "cell_type": "code",
   "execution_count": 2,
   "metadata": {},
   "outputs": [
    {
     "name": "stderr",
     "output_type": "stream",
     "text": [
      "2024-10-09 17:55:18.091760: E external/local_xla/xla/stream_executor/cuda/cuda_fft.cc:485] Unable to register cuFFT factory: Attempting to register factory for plugin cuFFT when one has already been registered\n",
      "2024-10-09 17:55:18.108455: E external/local_xla/xla/stream_executor/cuda/cuda_dnn.cc:8454] Unable to register cuDNN factory: Attempting to register factory for plugin cuDNN when one has already been registered\n",
      "2024-10-09 17:55:18.113119: E external/local_xla/xla/stream_executor/cuda/cuda_blas.cc:1452] Unable to register cuBLAS factory: Attempting to register factory for plugin cuBLAS when one has already been registered\n",
      "2024-10-09 17:55:18.124673: I tensorflow/core/platform/cpu_feature_guard.cc:210] This TensorFlow binary is optimized to use available CPU instructions in performance-critical operations.\n",
      "To enable the following instructions: AVX2 FMA, in other operations, rebuild TensorFlow with the appropriate compiler flags.\n",
      "2024-10-09 17:55:18.972339: W tensorflow/compiler/tf2tensorrt/utils/py_utils.cc:38] TF-TRT Warning: Could not find TensorRT\n"
     ]
    }
   ],
   "source": [
    "import numpy as np\n",
    "from tensorflow import keras"
   ]
  },
  {
   "cell_type": "markdown",
   "metadata": {},
   "source": [
    "## Крок 1\n",
    "\n",
    "завантажуємо датасет та готуємо данні"
   ]
  },
  {
   "cell_type": "code",
   "execution_count": 3,
   "metadata": {},
   "outputs": [],
   "source": [
    "fashion_mnist = keras.datasets.fashion_mnist\n",
    "\n",
    "(x_train, y_train), (x_test, y_test) = fashion_mnist.load_data()"
   ]
  },
  {
   "cell_type": "code",
   "execution_count": 4,
   "metadata": {},
   "outputs": [],
   "source": [
    "from keras.utils import to_categorical\n",
    "\n",
    "x_train = x_train.reshape(-1, 28, 28)\n",
    "x_test = x_test.reshape(-1, 28, 28)\n",
    "\n",
    "y_train = to_categorical(y_train, num_classes=10)\n",
    "y_test = to_categorical(y_test, num_classes=10)"
   ]
  },
  {
   "cell_type": "markdown",
   "metadata": {},
   "source": [
    "## Крок 2\n",
    "\n",
    "побудуємо функцію побудови моделі "
   ]
  },
  {
   "cell_type": "code",
   "execution_count": 5,
   "metadata": {},
   "outputs": [],
   "source": [
    "from tensorflow.keras.models import Sequential\n",
    "from tensorflow.keras.layers import Dense, Dropout, Flatten, BatchNormalization\n",
    "\n",
    "def build_model(hp):\n",
    "    model = Sequential()\n",
    "    model.add(Flatten(input_shape=(28, 28)))\n",
    "    \n",
    "    for i in range(hp.Int('num_layers', 2, 4)):\n",
    "        model.add(Dense\n",
    "            (units=hp.Int(\n",
    "                f'units_{i}',\n",
    "                min_value=32,\n",
    "                max_value=512,\n",
    "            step=32), activation='relu'))\n",
    "        \n",
    "        model.add(BatchNormalization())\n",
    "\n",
    "        model.add(Dropout(\n",
    "            hp.Float(\n",
    "                f'dropout_{i}',\n",
    "                min_value=0.0,\n",
    "                max_value=0.5,\n",
    "                step=0.1)))\n",
    "    \n",
    "    model.add(Dense(10, activation='softmax'))\n",
    "\n",
    "    model.compile(\n",
    "        optimizer='adam',\n",
    "        loss='categorical_crossentropy',\n",
    "        metrics=['accuracy'])\n",
    "    \n",
    "    return model"
   ]
  },
  {
   "cell_type": "markdown",
   "metadata": {},
   "source": [
    "## Крок 3\n",
    "\n",
    "налаштовуємо тюнер та параметри раньої зупинки"
   ]
  },
  {
   "cell_type": "code",
   "execution_count": 6,
   "metadata": {},
   "outputs": [
    {
     "name": "stderr",
     "output_type": "stream",
     "text": [
      "/tmp/ipykernel_59813/3930968778.py:1: DeprecationWarning: `import kerastuner` is deprecated, please use `import keras_tuner`.\n",
      "  from kerastuner.tuners import RandomSearch\n",
      "/home/user/.local/lib/python3.10/site-packages/keras/src/layers/reshaping/flatten.py:37: UserWarning: Do not pass an `input_shape`/`input_dim` argument to a layer. When using Sequential models, prefer using an `Input(shape)` object as the first layer in the model instead.\n",
      "  super().__init__(**kwargs)\n"
     ]
    }
   ],
   "source": [
    "from kerastuner.tuners import RandomSearch\n",
    "\n",
    "tuner = RandomSearch(\n",
    "    build_model,\n",
    "    objective='val_accuracy',\n",
    "    max_trials=15,\n",
    "    executions_per_trial=1,\n",
    "    directory='models_tuned_2',\n",
    "    project_name='fashion_mnist_tuning_2'\n",
    ")"
   ]
  },
  {
   "cell_type": "code",
   "execution_count": 7,
   "metadata": {},
   "outputs": [
    {
     "name": "stdout",
     "output_type": "stream",
     "text": [
      "Search space summary\n",
      "Default search space size: 5\n",
      "num_layers (Int)\n",
      "{'default': None, 'conditions': [], 'min_value': 2, 'max_value': 4, 'step': 1, 'sampling': 'linear'}\n",
      "units_0 (Int)\n",
      "{'default': None, 'conditions': [], 'min_value': 32, 'max_value': 512, 'step': 32, 'sampling': 'linear'}\n",
      "dropout_0 (Float)\n",
      "{'default': 0.0, 'conditions': [], 'min_value': 0.0, 'max_value': 0.5, 'step': 0.1, 'sampling': 'linear'}\n",
      "units_1 (Int)\n",
      "{'default': None, 'conditions': [], 'min_value': 32, 'max_value': 512, 'step': 32, 'sampling': 'linear'}\n",
      "dropout_1 (Float)\n",
      "{'default': 0.0, 'conditions': [], 'min_value': 0.0, 'max_value': 0.5, 'step': 0.1, 'sampling': 'linear'}\n"
     ]
    }
   ],
   "source": [
    "from tensorflow.keras.callbacks import EarlyStopping, ReduceLROnPlateau\n",
    "\n",
    "tuner.search_space_summary()\n",
    "\n",
    "early_stopping = EarlyStopping(\n",
    "    monitor='val_loss',\n",
    "    patience=7,\n",
    "    restore_best_weights=True\n",
    ")\n",
    "reduce_lr = ReduceLROnPlateau(\n",
    "    monitor='val_loss',\n",
    "    factor=0.5,\n",
    "    patience=3\n",
    ")"
   ]
  },
  {
   "cell_type": "markdown",
   "metadata": {},
   "source": [
    "## Крок 4\n",
    "\n",
    "запускаємо пошук найкращої моделі"
   ]
  },
  {
   "cell_type": "code",
   "execution_count": 8,
   "metadata": {},
   "outputs": [
    {
     "name": "stdout",
     "output_type": "stream",
     "text": [
      "Trial 15 Complete [00h 00m 48s]\n",
      "val_accuracy: 0.8919000029563904\n",
      "\n",
      "Best val_accuracy So Far: 0.8989999890327454\n",
      "Total elapsed time: 00h 29m 33s\n"
     ]
    }
   ],
   "source": [
    "tuner.search(\n",
    "    x_train, y_train, \n",
    "    validation_data=(x_test, y_test), \n",
    "    epochs=50, \n",
    "    batch_size=64, \n",
    "    callbacks=[early_stopping, reduce_lr]\n",
    ")\n"
   ]
  },
  {
   "cell_type": "markdown",
   "metadata": {},
   "source": [
    "виведемо результати тренування"
   ]
  },
  {
   "cell_type": "code",
   "execution_count": 9,
   "metadata": {},
   "outputs": [
    {
     "name": "stdout",
     "output_type": "stream",
     "text": [
      "Results summary\n",
      "Results in models_tuned_2/fashion_mnist_tuning_2\n",
      "Showing 10 best trials\n",
      "Objective(name=\"val_accuracy\", direction=\"max\")\n",
      "\n",
      "Trial 12 summary\n",
      "Hyperparameters:\n",
      "num_layers: 3\n",
      "units_0: 96\n",
      "dropout_0: 0.0\n",
      "units_1: 416\n",
      "dropout_1: 0.30000000000000004\n",
      "units_2: 320\n",
      "dropout_2: 0.1\n",
      "units_3: 192\n",
      "dropout_3: 0.0\n",
      "Score: 0.8989999890327454\n",
      "\n",
      "Trial 13 summary\n",
      "Hyperparameters:\n",
      "num_layers: 4\n",
      "units_0: 448\n",
      "dropout_0: 0.4\n",
      "units_1: 192\n",
      "dropout_1: 0.1\n",
      "units_2: 480\n",
      "dropout_2: 0.1\n",
      "units_3: 160\n",
      "dropout_3: 0.0\n",
      "Score: 0.8971999883651733\n",
      "\n",
      "Trial 03 summary\n",
      "Hyperparameters:\n",
      "num_layers: 4\n",
      "units_0: 384\n",
      "dropout_0: 0.1\n",
      "units_1: 352\n",
      "dropout_1: 0.1\n",
      "units_2: 192\n",
      "dropout_2: 0.0\n",
      "units_3: 224\n",
      "dropout_3: 0.0\n",
      "Score: 0.896399974822998\n",
      "\n",
      "Trial 07 summary\n",
      "Hyperparameters:\n",
      "num_layers: 4\n",
      "units_0: 320\n",
      "dropout_0: 0.0\n",
      "units_1: 512\n",
      "dropout_1: 0.0\n",
      "units_2: 64\n",
      "dropout_2: 0.30000000000000004\n",
      "units_3: 96\n",
      "dropout_3: 0.1\n",
      "Score: 0.8959000110626221\n",
      "\n",
      "Trial 04 summary\n",
      "Hyperparameters:\n",
      "num_layers: 3\n",
      "units_0: 192\n",
      "dropout_0: 0.1\n",
      "units_1: 160\n",
      "dropout_1: 0.30000000000000004\n",
      "units_2: 288\n",
      "dropout_2: 0.2\n",
      "units_3: 192\n",
      "dropout_3: 0.0\n",
      "Score: 0.895799994468689\n",
      "\n",
      "Trial 08 summary\n",
      "Hyperparameters:\n",
      "num_layers: 4\n",
      "units_0: 448\n",
      "dropout_0: 0.1\n",
      "units_1: 224\n",
      "dropout_1: 0.2\n",
      "units_2: 128\n",
      "dropout_2: 0.4\n",
      "units_3: 416\n",
      "dropout_3: 0.0\n",
      "Score: 0.8952999711036682\n",
      "\n",
      "Trial 01 summary\n",
      "Hyperparameters:\n",
      "num_layers: 4\n",
      "units_0: 32\n",
      "dropout_0: 0.1\n",
      "units_1: 512\n",
      "dropout_1: 0.30000000000000004\n",
      "units_2: 288\n",
      "dropout_2: 0.0\n",
      "units_3: 448\n",
      "dropout_3: 0.2\n",
      "Score: 0.8930000066757202\n",
      "\n",
      "Trial 14 summary\n",
      "Hyperparameters:\n",
      "num_layers: 2\n",
      "units_0: 192\n",
      "dropout_0: 0.1\n",
      "units_1: 64\n",
      "dropout_1: 0.0\n",
      "units_2: 128\n",
      "dropout_2: 0.0\n",
      "units_3: 448\n",
      "dropout_3: 0.0\n",
      "Score: 0.8919000029563904\n",
      "\n",
      "Trial 10 summary\n",
      "Hyperparameters:\n",
      "num_layers: 4\n",
      "units_0: 64\n",
      "dropout_0: 0.0\n",
      "units_1: 32\n",
      "dropout_1: 0.1\n",
      "units_2: 480\n",
      "dropout_2: 0.1\n",
      "units_3: 96\n",
      "dropout_3: 0.2\n",
      "Score: 0.8895999789237976\n",
      "\n",
      "Trial 00 summary\n",
      "Hyperparameters:\n",
      "num_layers: 4\n",
      "units_0: 320\n",
      "dropout_0: 0.4\n",
      "units_1: 32\n",
      "dropout_1: 0.1\n",
      "units_2: 32\n",
      "dropout_2: 0.0\n",
      "units_3: 32\n",
      "dropout_3: 0.0\n",
      "Score: 0.8884000182151794\n"
     ]
    }
   ],
   "source": [
    "tuner.results_summary()"
   ]
  },
  {
   "cell_type": "markdown",
   "metadata": {},
   "source": [
    "## Крок 5\n",
    "\n",
    "натренуємо найкращу модель, що отримали за допомогою тюнування"
   ]
  },
  {
   "cell_type": "code",
   "execution_count": 11,
   "metadata": {},
   "outputs": [
    {
     "name": "stdout",
     "output_type": "stream",
     "text": [
      "Epoch 1/50\n",
      "\u001b[1m938/938\u001b[0m \u001b[32m━━━━━━━━━━━━━━━━━━━━\u001b[0m\u001b[37m\u001b[0m \u001b[1m6s\u001b[0m 4ms/step - accuracy: 0.9268 - loss: 0.1918 - val_accuracy: 0.8739 - val_loss: 0.4074 - learning_rate: 0.0010\n",
      "Epoch 2/50\n",
      "\u001b[1m938/938\u001b[0m \u001b[32m━━━━━━━━━━━━━━━━━━━━\u001b[0m\u001b[37m\u001b[0m \u001b[1m4s\u001b[0m 4ms/step - accuracy: 0.9270 - loss: 0.1896 - val_accuracy: 0.8855 - val_loss: 0.3570 - learning_rate: 0.0010\n",
      "Epoch 3/50\n",
      "\u001b[1m938/938\u001b[0m \u001b[32m━━━━━━━━━━━━━━━━━━━━\u001b[0m\u001b[37m\u001b[0m \u001b[1m4s\u001b[0m 4ms/step - accuracy: 0.9304 - loss: 0.1846 - val_accuracy: 0.8892 - val_loss: 0.3746 - learning_rate: 0.0010\n",
      "Epoch 4/50\n",
      "\u001b[1m938/938\u001b[0m \u001b[32m━━━━━━━━━━━━━━━━━━━━\u001b[0m\u001b[37m\u001b[0m \u001b[1m4s\u001b[0m 4ms/step - accuracy: 0.9291 - loss: 0.1879 - val_accuracy: 0.8851 - val_loss: 0.3645 - learning_rate: 0.0010\n",
      "Epoch 5/50\n",
      "\u001b[1m938/938\u001b[0m \u001b[32m━━━━━━━━━━━━━━━━━━━━\u001b[0m\u001b[37m\u001b[0m \u001b[1m4s\u001b[0m 4ms/step - accuracy: 0.9295 - loss: 0.1834 - val_accuracy: 0.8930 - val_loss: 0.3647 - learning_rate: 0.0010\n",
      "Epoch 6/50\n",
      "\u001b[1m938/938\u001b[0m \u001b[32m━━━━━━━━━━━━━━━━━━━━\u001b[0m\u001b[37m\u001b[0m \u001b[1m4s\u001b[0m 4ms/step - accuracy: 0.9382 - loss: 0.1627 - val_accuracy: 0.8983 - val_loss: 0.3533 - learning_rate: 5.0000e-04\n",
      "Epoch 7/50\n",
      "\u001b[1m938/938\u001b[0m \u001b[32m━━━━━━━━━━━━━━━━━━━━\u001b[0m\u001b[37m\u001b[0m \u001b[1m4s\u001b[0m 4ms/step - accuracy: 0.9436 - loss: 0.1453 - val_accuracy: 0.8920 - val_loss: 0.3657 - learning_rate: 5.0000e-04\n",
      "Epoch 8/50\n",
      "\u001b[1m938/938\u001b[0m \u001b[32m━━━━━━━━━━━━━━━━━━━━\u001b[0m\u001b[37m\u001b[0m \u001b[1m4s\u001b[0m 4ms/step - accuracy: 0.9456 - loss: 0.1468 - val_accuracy: 0.8925 - val_loss: 0.3661 - learning_rate: 5.0000e-04\n",
      "Epoch 9/50\n",
      "\u001b[1m938/938\u001b[0m \u001b[32m━━━━━━━━━━━━━━━━━━━━\u001b[0m\u001b[37m\u001b[0m \u001b[1m4s\u001b[0m 4ms/step - accuracy: 0.9467 - loss: 0.1372 - val_accuracy: 0.8966 - val_loss: 0.3864 - learning_rate: 5.0000e-04\n",
      "Epoch 10/50\n",
      "\u001b[1m938/938\u001b[0m \u001b[32m━━━━━━━━━━━━━━━━━━━━\u001b[0m\u001b[37m\u001b[0m \u001b[1m4s\u001b[0m 4ms/step - accuracy: 0.9504 - loss: 0.1278 - val_accuracy: 0.8950 - val_loss: 0.3716 - learning_rate: 2.5000e-04\n",
      "Epoch 11/50\n",
      "\u001b[1m938/938\u001b[0m \u001b[32m━━━━━━━━━━━━━━━━━━━━\u001b[0m\u001b[37m\u001b[0m \u001b[1m4s\u001b[0m 4ms/step - accuracy: 0.9525 - loss: 0.1260 - val_accuracy: 0.8961 - val_loss: 0.3990 - learning_rate: 2.5000e-04\n",
      "Epoch 12/50\n",
      "\u001b[1m938/938\u001b[0m \u001b[32m━━━━━━━━━━━━━━━━━━━━\u001b[0m\u001b[37m\u001b[0m \u001b[1m4s\u001b[0m 4ms/step - accuracy: 0.9551 - loss: 0.1187 - val_accuracy: 0.8987 - val_loss: 0.3912 - learning_rate: 2.5000e-04\n",
      "Epoch 13/50\n",
      "\u001b[1m938/938\u001b[0m \u001b[32m━━━━━━━━━━━━━━━━━━━━\u001b[0m\u001b[37m\u001b[0m \u001b[1m4s\u001b[0m 4ms/step - accuracy: 0.9570 - loss: 0.1121 - val_accuracy: 0.8988 - val_loss: 0.3880 - learning_rate: 1.2500e-04\n"
     ]
    }
   ],
   "source": [
    "best_model = tuner.get_best_models(num_models=1)[0]\n",
    "\n",
    "history = best_model.fit(\n",
    "    x_train, y_train,\n",
    "    validation_data=(x_test, y_test),\n",
    "    epochs=50,\n",
    "    batch_size=64,\n",
    "    callbacks=[early_stopping, reduce_lr]\n",
    ")"
   ]
  },
  {
   "cell_type": "markdown",
   "metadata": {},
   "source": [
    "## Крок 6\n",
    "\n",
    "оцінимо отриману найкращу модель"
   ]
  },
  {
   "cell_type": "markdown",
   "metadata": {},
   "source": [
    "### побудуємо графіки функції втрат та точності"
   ]
  },
  {
   "cell_type": "code",
   "execution_count": 14,
   "metadata": {},
   "outputs": [
    {
     "data": {
      "image/png": "[encoded data removed]",
      "text/plain": [
       "<Figure size 1200x500 with 2 Axes>"
      ]
     },
     "metadata": {},
     "output_type": "display_data"
    }
   ],
   "source": [
    "import matplotlib.pyplot as plt\n",
    "\n",
    "loss = history.history['loss']\n",
    "val_loss = history.history['val_loss']\n",
    "accuracy = history.history['accuracy']\n",
    "val_accuracy = history.history['val_accuracy']\n",
    "epochs = range(1, len(loss) + 1)\n",
    "\n",
    "plt.figure(figsize=(12, 5))\n",
    "\n",
    "plt.subplot(1, 2, 1)\n",
    "plt.plot(epochs, loss, 'bo-', label='Тренувальні втрати')\n",
    "plt.plot(epochs, val_loss, 'ro-', label='Валідаційні втрати')\n",
    "plt.title('Функція втрат')\n",
    "plt.xlabel('Епохи')\n",
    "plt.ylabel('Втрати')\n",
    "plt.grid(True)\n",
    "plt.legend()\n",
    "\n",
    "plt.subplot(1, 2, 2)\n",
    "plt.plot(epochs, accuracy, 'bo-', label='Тренувальна точність')\n",
    "plt.plot(epochs, val_accuracy, 'ro-', label='Валідаційна точність')\n",
    "plt.title('Точність')\n",
    "plt.xlabel('Епохи')\n",
    "plt.ylabel('Точність')\n",
    "plt.grid(True)\n",
    "plt.legend()\n",
    "\n",
    "plt.tight_layout()\n",
    "plt.show()"
   ]
  },
  {
   "cell_type": "markdown",
   "metadata": {},
   "source": [
    "### виведемо класифікаційний звіт"
   ]
  },
  {
   "cell_type": "code",
   "execution_count": 16,
   "metadata": {},
   "outputs": [
    {
     "name": "stdout",
     "output_type": "stream",
     "text": [
      "\u001b[1m313/313\u001b[0m \u001b[32m━━━━━━━━━━━━━━━━━━━━\u001b[0m\u001b[37m\u001b[0m \u001b[1m1s\u001b[0m 2ms/step\n",
      "              precision    recall  f1-score   support\n",
      "\n",
      " T-shirt/top       0.82      0.86      0.84      1000\n",
      "     Trouser       0.99      0.98      0.98      1000\n",
      "    Pullover       0.81      0.85      0.83      1000\n",
      "       Dress       0.89      0.90      0.89      1000\n",
      "        Coat       0.84      0.82      0.83      1000\n",
      "      Sandal       0.97      0.97      0.97      1000\n",
      "       Shirt       0.76      0.70      0.73      1000\n",
      "     Sneaker       0.95      0.97      0.96      1000\n",
      "         Bag       0.98      0.97      0.98      1000\n",
      "  Ankle boot       0.97      0.96      0.96      1000\n",
      "\n",
      "    accuracy                           0.90     10000\n",
      "   macro avg       0.90      0.90      0.90     10000\n",
      "weighted avg       0.90      0.90      0.90     10000\n",
      "\n"
     ]
    }
   ],
   "source": [
    "from sklearn.metrics import classification_report\n",
    "\n",
    "class_names = ['T-shirt/top', 'Trouser', 'Pullover', 'Dress', 'Coat', 'Sandal', 'Shirt', 'Sneaker', 'Bag', 'Ankle boot']\n",
    "\n",
    "y_pred = np.argmax(best_model.predict(x_test), axis=-1)\n",
    "y_true = np.argmax(y_test, axis=-1)\n",
    "print(classification_report(y_true, y_pred, target_names=class_names))"
   ]
  },
  {
   "cell_type": "code",
   "execution_count": 18,
   "metadata": {},
   "outputs": [
    {
     "name": "stdout",
     "output_type": "stream",
     "text": [
      "   True Label  Predicted Label\n",
      "0           9                9\n",
      "1           2                2\n",
      "2           1                1\n",
      "3           1                1\n",
      "4           6                6\n",
      "5           1                1\n",
      "6           4                4\n",
      "7           6                6\n",
      "8           5                5\n",
      "9           7                7\n"
     ]
    }
   ],
   "source": [
    "import pandas as pd\n",
    "\n",
    "results = pd.DataFrame({'True Label': y_true, 'Predicted Label': y_pred})\n",
    "print(results.head(10))"
   ]
  },
  {
   "cell_type": "markdown",
   "metadata": {},
   "source": [
    "збережемо модель"
   ]
  },
  {
   "cell_type": "code",
   "execution_count": 17,
   "metadata": {},
   "outputs": [],
   "source": [
    "best_model.save('models/mnist_tuned_model.keras')"
   ]
  },
  {
   "cell_type": "markdown",
   "metadata": {},
   "source": [
    "## Крок 7\n",
    "\n",
    "порівняємо дві моделі"
   ]
  },
  {
   "cell_type": "markdown",
   "metadata": {},
   "source": [
    "завантажуємо з локальної машини"
   ]
  },
  {
   "cell_type": "code",
   "execution_count": 20,
   "metadata": {},
   "outputs": [],
   "source": [
    "from tensorflow.keras.models import load_model\n",
    "\n",
    "model_original = load_model('models/mnist_model_59_06_16_09_10_2024.keras')\n",
    "model_tuned = load_model('models/mnist_tuned_model.keras')"
   ]
  },
  {
   "cell_type": "code",
   "execution_count": 26,
   "metadata": {},
   "outputs": [
    {
     "name": "stdout",
     "output_type": "stream",
     "text": [
      "Оригінальна модель - Loss: 0.4233, Accuracy: 0.8794\n",
      "Тюнована модель    - Loss: 0.3533, Accuracy: 0.8983\n"
     ]
    }
   ],
   "source": [
    "score_original = model_original.evaluate(x_test, y_test, verbose=0)\n",
    "score_tuned = model_tuned.evaluate(x_test, y_test, verbose=0)\n",
    "\n",
    "print(f\"Оригінальна модель - Loss: {score_original[0]:.4f}, Accuracy: {score_original[1]:.4f}\")\n",
    "print(f\"Тюнована модель    - Loss: {score_tuned[0]:.4f}, Accuracy: {score_tuned[1]:.4f}\")"
   ]
  },
  {
   "cell_type": "code",
   "execution_count": 25,
   "metadata": {},
   "outputs": [
    {
     "name": "stdout",
     "output_type": "stream",
     "text": [
      "\u001b[1m313/313\u001b[0m \u001b[32m━━━━━━━━━━━━━━━━━━━━\u001b[0m\u001b[37m\u001b[0m \u001b[1m1s\u001b[0m 2ms/step\n",
      "\u001b[1m313/313\u001b[0m \u001b[32m━━━━━━━━━━━━━━━━━━━━\u001b[0m\u001b[37m\u001b[0m \u001b[1m0s\u001b[0m 1ms/step\n",
      "Оригінальна модель:\n",
      "              precision    recall  f1-score   support\n",
      "\n",
      "           0       0.81      0.85      0.83      1000\n",
      "           1       0.99      0.96      0.98      1000\n",
      "           2       0.78      0.82      0.80      1000\n",
      "           3       0.89      0.87      0.88      1000\n",
      "           4       0.80      0.80      0.80      1000\n",
      "           5       0.97      0.93      0.95      1000\n",
      "           6       0.72      0.67      0.69      1000\n",
      "           7       0.93      0.96      0.94      1000\n",
      "           8       0.97      0.97      0.97      1000\n",
      "           9       0.96      0.95      0.95      1000\n",
      "\n",
      "    accuracy                           0.88     10000\n",
      "   macro avg       0.88      0.88      0.88     10000\n",
      "weighted avg       0.88      0.88      0.88     10000\n",
      "\n",
      "Тюнована модель:\n",
      "              precision    recall  f1-score   support\n",
      "\n",
      "           0       0.82      0.86      0.84      1000\n",
      "           1       0.99      0.98      0.98      1000\n",
      "           2       0.81      0.85      0.83      1000\n",
      "           3       0.89      0.90      0.89      1000\n",
      "           4       0.84      0.82      0.83      1000\n",
      "           5       0.97      0.97      0.97      1000\n",
      "           6       0.76      0.70      0.73      1000\n",
      "           7       0.95      0.97      0.96      1000\n",
      "           8       0.98      0.97      0.98      1000\n",
      "           9       0.97      0.96      0.96      1000\n",
      "\n",
      "    accuracy                           0.90     10000\n",
      "   macro avg       0.90      0.90      0.90     10000\n",
      "weighted avg       0.90      0.90      0.90     10000\n",
      "\n"
     ]
    }
   ],
   "source": [
    "y_pred_original = np.argmax(model_original.predict(x_test), axis=-1)\n",
    "y_pred_tuned = np.argmax(model_tuned.predict(x_test), axis=-1)\n",
    "y_true = np.argmax(y_test, axis=-1)\n",
    "\n",
    "print(\"Оригінальна модель:\")\n",
    "print(classification_report(y_true, y_pred_original))\n",
    "\n",
    "print(\"Тюнована модель:\")\n",
    "print(classification_report(y_true, y_pred_tuned))"
   ]
  },
  {
   "cell_type": "markdown",
   "metadata": {},
   "source": [
    "## Висновки\n",
    "\n",
    "В ході побудови різних моделей, як вручну, так і за допомогою тюнера, отримали наступний результат - так, тюнування моделей загалом показує кращий результат, і може показати набагато кращий результат при більших та складніших моделях.\n",
    "\n",
    "Тюнування в даному випадку дало умовний приріст в 2%, з 88% точності, до 90%, що дає загалом кращий результат, хоч і потребувало більших затрат по часу. Загалом оптимізація гіперпараметрів дозволила зробити модель більш точною."
   ]
  }
 ],
 "metadata": {
  "kernelspec": {
   "display_name": "Python 3",
   "language": "python",
   "name": "python3"
  },
  "language_info": {
   "codemirror_mode": {
    "name": "ipython",
    "version": 3
   },
   "file_extension": ".py",
   "mimetype": "text/x-python",
   "name": "python",
   "nbconvert_exporter": "python",
   "pygments_lexer": "ipython3",
   "version": "3.10.12"
  }
 },
 "nbformat": 4,
 "nbformat_minor": 2
}
