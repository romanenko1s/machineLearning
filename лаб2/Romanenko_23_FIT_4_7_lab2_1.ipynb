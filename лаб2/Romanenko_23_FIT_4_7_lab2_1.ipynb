{
 "cells": [
  {
   "cell_type": "markdown",
   "metadata": {},
   "source": [
    "# Лабораторна робота 2 (1 частина)\n",
    "\n",
    "Романенко Ілля ФІТ 4-7\n",
    "\n",
    "23 варіант"
   ]
  },
  {
   "cell_type": "markdown",
   "metadata": {},
   "source": [
    "## Крок 1\n",
    "\n",
    "імпрортуємо датафрейм та виведем перші 5 значень таблиці"
   ]
  },
  {
   "cell_type": "code",
   "execution_count": 236,
   "metadata": {},
   "outputs": [
    {
     "data": {
      "text/html": [
       "<div>\n",
       "<style scoped>\n",
       "    .dataframe tbody tr th:only-of-type {\n",
       "        vertical-align: middle;\n",
       "    }\n",
       "\n",
       "    .dataframe tbody tr th {\n",
       "        vertical-align: top;\n",
       "    }\n",
       "\n",
       "    .dataframe thead tr th {\n",
       "        text-align: left;\n",
       "    }\n",
       "</style>\n",
       "<table border=\"1\" class=\"dataframe\">\n",
       "  <thead>\n",
       "    <tr>\n",
       "      <th></th>\n",
       "      <th>Country/Territory</th>\n",
       "      <th colspan=\"2\" halign=\"left\">IMF[1][13]</th>\n",
       "      <th colspan=\"2\" halign=\"left\">World Bank[14]</th>\n",
       "      <th colspan=\"2\" halign=\"left\">United Nations[15]</th>\n",
       "    </tr>\n",
       "    <tr>\n",
       "      <th></th>\n",
       "      <th>Country/Territory</th>\n",
       "      <th>Forecast</th>\n",
       "      <th>Year</th>\n",
       "      <th>Estimate</th>\n",
       "      <th>Year</th>\n",
       "      <th>Estimate</th>\n",
       "      <th>Year</th>\n",
       "    </tr>\n",
       "  </thead>\n",
       "  <tbody>\n",
       "    <tr>\n",
       "      <th>0</th>\n",
       "      <td>World</td>\n",
       "      <td>109529216</td>\n",
       "      <td>2024</td>\n",
       "      <td>105435540</td>\n",
       "      <td>2023</td>\n",
       "      <td>100834796</td>\n",
       "      <td>2022</td>\n",
       "    </tr>\n",
       "    <tr>\n",
       "      <th>1</th>\n",
       "      <td>United States</td>\n",
       "      <td>28781083</td>\n",
       "      <td>2024</td>\n",
       "      <td>27360935</td>\n",
       "      <td>2023</td>\n",
       "      <td>25744100</td>\n",
       "      <td>2022</td>\n",
       "    </tr>\n",
       "    <tr>\n",
       "      <th>2</th>\n",
       "      <td>China</td>\n",
       "      <td>18532633</td>\n",
       "      <td>[n 1]2024</td>\n",
       "      <td>17794782</td>\n",
       "      <td>[n 3]2023</td>\n",
       "      <td>17963170</td>\n",
       "      <td>[n 1]2022</td>\n",
       "    </tr>\n",
       "    <tr>\n",
       "      <th>3</th>\n",
       "      <td>Germany</td>\n",
       "      <td>4591100</td>\n",
       "      <td>2024</td>\n",
       "      <td>4456081</td>\n",
       "      <td>2023</td>\n",
       "      <td>4076923</td>\n",
       "      <td>2022</td>\n",
       "    </tr>\n",
       "    <tr>\n",
       "      <th>4</th>\n",
       "      <td>Japan</td>\n",
       "      <td>4110452</td>\n",
       "      <td>2024</td>\n",
       "      <td>4212945</td>\n",
       "      <td>2023</td>\n",
       "      <td>4232173</td>\n",
       "      <td>2022</td>\n",
       "    </tr>\n",
       "  </tbody>\n",
       "</table>\n",
       "</div>"
      ],
      "text/plain": [
       "  Country/Territory IMF[1][13]            World Bank[14]             \\\n",
       "  Country/Territory   Forecast       Year       Estimate       Year   \n",
       "0             World  109529216       2024      105435540       2023   \n",
       "1     United States   28781083       2024       27360935       2023   \n",
       "2             China   18532633  [n 1]2024       17794782  [n 3]2023   \n",
       "3           Germany    4591100       2024        4456081       2023   \n",
       "4             Japan    4110452       2024        4212945       2023   \n",
       "\n",
       "  United Nations[15]             \n",
       "            Estimate       Year  \n",
       "0          100834796       2022  \n",
       "1           25744100       2022  \n",
       "2           17963170  [n 1]2022  \n",
       "3            4076923       2022  \n",
       "4            4232173       2022  "
      ]
     },
     "execution_count": 236,
     "metadata": {},
     "output_type": "execute_result"
    }
   ],
   "source": [
    "import pandas as pd\n",
    "import numpy as np\n",
    "\n",
    "url = 'https://en.wikipedia.org/wiki/List_of_countries_by_GDP_(nominal)'\n",
    "tables = pd.read_html(url)\n",
    "dataFrame = tables[2]\n",
    "\n",
    "dataFrame.head()"
   ]
  },
  {
   "cell_type": "markdown",
   "metadata": {},
   "source": [
    "## Крок 2\n",
    "\n",
    "визначаємо розміри \"сирого\" датасету"
   ]
  },
  {
   "cell_type": "code",
   "execution_count": 237,
   "metadata": {},
   "outputs": [
    {
     "name": "stdout",
     "output_type": "stream",
     "text": [
      "кількість колонок:  7\n",
      "кількість рядків:  210\n"
     ]
    }
   ],
   "source": [
    "print('кількість колонок: ', dataFrame.shape[1])\n",
    "print('кількість рядків: ', dataFrame.shape[0])"
   ]
  },
  {
   "cell_type": "markdown",
   "metadata": {},
   "source": [
    "## Крок 3\n",
    "\n",
    "дамо стовпчикам нові назви"
   ]
  },
  {
   "cell_type": "code",
   "execution_count": 238,
   "metadata": {},
   "outputs": [
    {
     "data": {
      "text/html": [
       "<div>\n",
       "<style scoped>\n",
       "    .dataframe tbody tr th:only-of-type {\n",
       "        vertical-align: middle;\n",
       "    }\n",
       "\n",
       "    .dataframe tbody tr th {\n",
       "        vertical-align: top;\n",
       "    }\n",
       "\n",
       "    .dataframe thead th {\n",
       "        text-align: right;\n",
       "    }\n",
       "</style>\n",
       "<table border=\"1\" class=\"dataframe\">\n",
       "  <thead>\n",
       "    <tr style=\"text-align: right;\">\n",
       "      <th></th>\n",
       "      <th>country</th>\n",
       "      <th>IMF 2024</th>\n",
       "      <th>IMF year</th>\n",
       "      <th>WB 2023</th>\n",
       "      <th>WB year</th>\n",
       "      <th>UN 2022</th>\n",
       "      <th>UN year</th>\n",
       "    </tr>\n",
       "  </thead>\n",
       "  <tbody>\n",
       "    <tr>\n",
       "      <th>0</th>\n",
       "      <td>World</td>\n",
       "      <td>109529216</td>\n",
       "      <td>2024</td>\n",
       "      <td>105435540</td>\n",
       "      <td>2023</td>\n",
       "      <td>100834796</td>\n",
       "      <td>2022</td>\n",
       "    </tr>\n",
       "    <tr>\n",
       "      <th>1</th>\n",
       "      <td>United States</td>\n",
       "      <td>28781083</td>\n",
       "      <td>2024</td>\n",
       "      <td>27360935</td>\n",
       "      <td>2023</td>\n",
       "      <td>25744100</td>\n",
       "      <td>2022</td>\n",
       "    </tr>\n",
       "    <tr>\n",
       "      <th>2</th>\n",
       "      <td>China</td>\n",
       "      <td>18532633</td>\n",
       "      <td>[n 1]2024</td>\n",
       "      <td>17794782</td>\n",
       "      <td>[n 3]2023</td>\n",
       "      <td>17963170</td>\n",
       "      <td>[n 1]2022</td>\n",
       "    </tr>\n",
       "    <tr>\n",
       "      <th>3</th>\n",
       "      <td>Germany</td>\n",
       "      <td>4591100</td>\n",
       "      <td>2024</td>\n",
       "      <td>4456081</td>\n",
       "      <td>2023</td>\n",
       "      <td>4076923</td>\n",
       "      <td>2022</td>\n",
       "    </tr>\n",
       "    <tr>\n",
       "      <th>4</th>\n",
       "      <td>Japan</td>\n",
       "      <td>4110452</td>\n",
       "      <td>2024</td>\n",
       "      <td>4212945</td>\n",
       "      <td>2023</td>\n",
       "      <td>4232173</td>\n",
       "      <td>2022</td>\n",
       "    </tr>\n",
       "  </tbody>\n",
       "</table>\n",
       "</div>"
      ],
      "text/plain": [
       "         country   IMF 2024   IMF year    WB 2023    WB year    UN 2022  \\\n",
       "0          World  109529216       2024  105435540       2023  100834796   \n",
       "1  United States   28781083       2024   27360935       2023   25744100   \n",
       "2          China   18532633  [n 1]2024   17794782  [n 3]2023   17963170   \n",
       "3        Germany    4591100       2024    4456081       2023    4076923   \n",
       "4          Japan    4110452       2024    4212945       2023    4232173   \n",
       "\n",
       "     UN year  \n",
       "0       2022  \n",
       "1       2022  \n",
       "2  [n 1]2022  \n",
       "3       2022  \n",
       "4       2022  "
      ]
     },
     "execution_count": 238,
     "metadata": {},
     "output_type": "execute_result"
    }
   ],
   "source": [
    "newColumnsNames = [\n",
    "    'country',\n",
    "    'IMF 2024',\n",
    "    'IMF year',\n",
    "    'WB 2023',\n",
    "    'WB year',\n",
    "    'UN 2022',\n",
    "    'UN year',\n",
    "]\n",
    "\n",
    "dataFrame.columns = newColumnsNames\n",
    "\n",
    "dataFrame.head()"
   ]
  },
  {
   "cell_type": "markdown",
   "metadata": {},
   "source": [
    "## Крок 4\n",
    "\n",
    "видалимо непотрібні стовці даних"
   ]
  },
  {
   "cell_type": "code",
   "execution_count": 239,
   "metadata": {},
   "outputs": [
    {
     "data": {
      "text/html": [
       "<div>\n",
       "<style scoped>\n",
       "    .dataframe tbody tr th:only-of-type {\n",
       "        vertical-align: middle;\n",
       "    }\n",
       "\n",
       "    .dataframe tbody tr th {\n",
       "        vertical-align: top;\n",
       "    }\n",
       "\n",
       "    .dataframe thead th {\n",
       "        text-align: right;\n",
       "    }\n",
       "</style>\n",
       "<table border=\"1\" class=\"dataframe\">\n",
       "  <thead>\n",
       "    <tr style=\"text-align: right;\">\n",
       "      <th></th>\n",
       "      <th>country</th>\n",
       "      <th>IMF 2024</th>\n",
       "      <th>WB 2023</th>\n",
       "      <th>UN 2022</th>\n",
       "    </tr>\n",
       "  </thead>\n",
       "  <tbody>\n",
       "    <tr>\n",
       "      <th>0</th>\n",
       "      <td>World</td>\n",
       "      <td>109529216</td>\n",
       "      <td>105435540</td>\n",
       "      <td>100834796</td>\n",
       "    </tr>\n",
       "    <tr>\n",
       "      <th>1</th>\n",
       "      <td>United States</td>\n",
       "      <td>28781083</td>\n",
       "      <td>27360935</td>\n",
       "      <td>25744100</td>\n",
       "    </tr>\n",
       "    <tr>\n",
       "      <th>2</th>\n",
       "      <td>China</td>\n",
       "      <td>18532633</td>\n",
       "      <td>17794782</td>\n",
       "      <td>17963170</td>\n",
       "    </tr>\n",
       "    <tr>\n",
       "      <th>3</th>\n",
       "      <td>Germany</td>\n",
       "      <td>4591100</td>\n",
       "      <td>4456081</td>\n",
       "      <td>4076923</td>\n",
       "    </tr>\n",
       "    <tr>\n",
       "      <th>4</th>\n",
       "      <td>Japan</td>\n",
       "      <td>4110452</td>\n",
       "      <td>4212945</td>\n",
       "      <td>4232173</td>\n",
       "    </tr>\n",
       "  </tbody>\n",
       "</table>\n",
       "</div>"
      ],
      "text/plain": [
       "         country   IMF 2024    WB 2023    UN 2022\n",
       "0          World  109529216  105435540  100834796\n",
       "1  United States   28781083   27360935   25744100\n",
       "2          China   18532633   17794782   17963170\n",
       "3        Germany    4591100    4456081    4076923\n",
       "4          Japan    4110452    4212945    4232173"
      ]
     },
     "execution_count": 239,
     "metadata": {},
     "output_type": "execute_result"
    }
   ],
   "source": [
    "dataFrame = dataFrame.drop(['IMF year', 'WB year', 'UN year'], axis=1)\n",
    "\n",
    "dataFrame.head()\n"
   ]
  },
  {
   "cell_type": "markdown",
   "metadata": {},
   "source": [
    "## Крок 5\n",
    "\n",
    "видалимо перший рядок даних \"світ\""
   ]
  },
  {
   "cell_type": "code",
   "execution_count": 240,
   "metadata": {},
   "outputs": [
    {
     "data": {
      "text/html": [
       "<div>\n",
       "<style scoped>\n",
       "    .dataframe tbody tr th:only-of-type {\n",
       "        vertical-align: middle;\n",
       "    }\n",
       "\n",
       "    .dataframe tbody tr th {\n",
       "        vertical-align: top;\n",
       "    }\n",
       "\n",
       "    .dataframe thead th {\n",
       "        text-align: right;\n",
       "    }\n",
       "</style>\n",
       "<table border=\"1\" class=\"dataframe\">\n",
       "  <thead>\n",
       "    <tr style=\"text-align: right;\">\n",
       "      <th></th>\n",
       "      <th>country</th>\n",
       "      <th>IMF 2024</th>\n",
       "      <th>WB 2023</th>\n",
       "      <th>UN 2022</th>\n",
       "    </tr>\n",
       "  </thead>\n",
       "  <tbody>\n",
       "    <tr>\n",
       "      <th>0</th>\n",
       "      <td>United States</td>\n",
       "      <td>28781083</td>\n",
       "      <td>27360935</td>\n",
       "      <td>25744100</td>\n",
       "    </tr>\n",
       "    <tr>\n",
       "      <th>1</th>\n",
       "      <td>China</td>\n",
       "      <td>18532633</td>\n",
       "      <td>17794782</td>\n",
       "      <td>17963170</td>\n",
       "    </tr>\n",
       "    <tr>\n",
       "      <th>2</th>\n",
       "      <td>Germany</td>\n",
       "      <td>4591100</td>\n",
       "      <td>4456081</td>\n",
       "      <td>4076923</td>\n",
       "    </tr>\n",
       "    <tr>\n",
       "      <th>3</th>\n",
       "      <td>Japan</td>\n",
       "      <td>4110452</td>\n",
       "      <td>4212945</td>\n",
       "      <td>4232173</td>\n",
       "    </tr>\n",
       "    <tr>\n",
       "      <th>4</th>\n",
       "      <td>India</td>\n",
       "      <td>3937011</td>\n",
       "      <td>3549919</td>\n",
       "      <td>3465541</td>\n",
       "    </tr>\n",
       "  </tbody>\n",
       "</table>\n",
       "</div>"
      ],
      "text/plain": [
       "         country  IMF 2024   WB 2023   UN 2022\n",
       "0  United States  28781083  27360935  25744100\n",
       "1          China  18532633  17794782  17963170\n",
       "2        Germany   4591100   4456081   4076923\n",
       "3          Japan   4110452   4212945   4232173\n",
       "4          India   3937011   3549919   3465541"
      ]
     },
     "execution_count": 240,
     "metadata": {},
     "output_type": "execute_result"
    }
   ],
   "source": [
    "dataFrame = dataFrame[dataFrame['country'] != 'World']\n",
    "dataFrame = dataFrame.reset_index(drop=True)\n",
    "\n",
    "dataFrame.head()"
   ]
  },
  {
   "cell_type": "markdown",
   "metadata": {},
   "source": [
    "## Крок 6\n",
    "\n",
    "перевіримо кількість пропущених данних"
   ]
  },
  {
   "cell_type": "code",
   "execution_count": 241,
   "metadata": {},
   "outputs": [
    {
     "data": {
      "text/plain": [
       "country     0\n",
       "IMF 2024    0\n",
       "WB 2023     0\n",
       "UN 2022     0\n",
       "dtype: int64"
      ]
     },
     "execution_count": 241,
     "metadata": {},
     "output_type": "execute_result"
    }
   ],
   "source": [
    "dataFrame.isna().sum()"
   ]
  },
  {
   "cell_type": "markdown",
   "metadata": {},
   "source": [
    "## Крок 7\n",
    "\n",
    "Переведемо тип данних в float"
   ]
  },
  {
   "cell_type": "code",
   "execution_count": 242,
   "metadata": {},
   "outputs": [
    {
     "name": "stdout",
     "output_type": "stream",
     "text": [
      "типи даних після конвертації:  country      object\n",
      "IMF 2024    float64\n",
      "WB 2023     float64\n",
      "UN 2022     float64\n",
      "dtype: object\n"
     ]
    },
    {
     "data": {
      "text/html": [
       "<div>\n",
       "<style scoped>\n",
       "    .dataframe tbody tr th:only-of-type {\n",
       "        vertical-align: middle;\n",
       "    }\n",
       "\n",
       "    .dataframe tbody tr th {\n",
       "        vertical-align: top;\n",
       "    }\n",
       "\n",
       "    .dataframe thead th {\n",
       "        text-align: right;\n",
       "    }\n",
       "</style>\n",
       "<table border=\"1\" class=\"dataframe\">\n",
       "  <thead>\n",
       "    <tr style=\"text-align: right;\">\n",
       "      <th></th>\n",
       "      <th>country</th>\n",
       "      <th>IMF 2024</th>\n",
       "      <th>WB 2023</th>\n",
       "      <th>UN 2022</th>\n",
       "    </tr>\n",
       "  </thead>\n",
       "  <tbody>\n",
       "    <tr>\n",
       "      <th>0</th>\n",
       "      <td>United States</td>\n",
       "      <td>28781083.0</td>\n",
       "      <td>27360935.0</td>\n",
       "      <td>25744100.0</td>\n",
       "    </tr>\n",
       "    <tr>\n",
       "      <th>1</th>\n",
       "      <td>China</td>\n",
       "      <td>18532633.0</td>\n",
       "      <td>17794782.0</td>\n",
       "      <td>17963170.0</td>\n",
       "    </tr>\n",
       "    <tr>\n",
       "      <th>2</th>\n",
       "      <td>Germany</td>\n",
       "      <td>4591100.0</td>\n",
       "      <td>4456081.0</td>\n",
       "      <td>4076923.0</td>\n",
       "    </tr>\n",
       "    <tr>\n",
       "      <th>3</th>\n",
       "      <td>Japan</td>\n",
       "      <td>4110452.0</td>\n",
       "      <td>4212945.0</td>\n",
       "      <td>4232173.0</td>\n",
       "    </tr>\n",
       "    <tr>\n",
       "      <th>4</th>\n",
       "      <td>India</td>\n",
       "      <td>3937011.0</td>\n",
       "      <td>3549919.0</td>\n",
       "      <td>3465541.0</td>\n",
       "    </tr>\n",
       "  </tbody>\n",
       "</table>\n",
       "</div>"
      ],
      "text/plain": [
       "         country    IMF 2024     WB 2023     UN 2022\n",
       "0  United States  28781083.0  27360935.0  25744100.0\n",
       "1          China  18532633.0  17794782.0  17963170.0\n",
       "2        Germany   4591100.0   4456081.0   4076923.0\n",
       "3          Japan   4110452.0   4212945.0   4232173.0\n",
       "4          India   3937011.0   3549919.0   3465541.0"
      ]
     },
     "execution_count": 242,
     "metadata": {},
     "output_type": "execute_result"
    }
   ],
   "source": [
    "dataFrame.replace('—', np.nan, inplace=True)\n",
    "\n",
    "dataFrame['IMF 2024'] = pd.to_numeric(dataFrame['IMF 2024'], errors='coerce')\n",
    "dataFrame['WB 2023'] = pd.to_numeric(dataFrame['WB 2023'], errors='coerce')\n",
    "dataFrame['UN 2022'] = pd.to_numeric(dataFrame['UN 2022'], errors='coerce')\n",
    "\n",
    "print('типи даних після конвертації: ',  dataFrame.dtypes)\n",
    "dataFrame.head()"
   ]
  },
  {
   "cell_type": "markdown",
   "metadata": {},
   "source": [
    "## Крок 8\n",
    "\n",
    "перевіримо знову пропущенні данні"
   ]
  },
  {
   "cell_type": "code",
   "execution_count": 243,
   "metadata": {},
   "outputs": [
    {
     "data": {
      "text/plain": [
       "country      0\n",
       "IMF 2024    15\n",
       "WB 2023      8\n",
       "UN 2022      1\n",
       "dtype: int64"
      ]
     },
     "execution_count": 243,
     "metadata": {},
     "output_type": "execute_result"
    }
   ],
   "source": [
    "dataFrame.isna().sum()"
   ]
  },
  {
   "cell_type": "markdown",
   "metadata": {},
   "source": [
    "## Крок 9\n",
    "\n",
    "Замінимо всі пропущенні значення на середнє медіанне, та перевіримо дані ще раз"
   ]
  },
  {
   "cell_type": "code",
   "execution_count": 244,
   "metadata": {},
   "outputs": [
    {
     "data": {
      "text/html": [
       "<div>\n",
       "<style scoped>\n",
       "    .dataframe tbody tr th:only-of-type {\n",
       "        vertical-align: middle;\n",
       "    }\n",
       "\n",
       "    .dataframe tbody tr th {\n",
       "        vertical-align: top;\n",
       "    }\n",
       "\n",
       "    .dataframe thead th {\n",
       "        text-align: right;\n",
       "    }\n",
       "</style>\n",
       "<table border=\"1\" class=\"dataframe\">\n",
       "  <thead>\n",
       "    <tr style=\"text-align: right;\">\n",
       "      <th></th>\n",
       "      <th>country</th>\n",
       "      <th>IMF 2024</th>\n",
       "      <th>WB 2023</th>\n",
       "      <th>UN 2022</th>\n",
       "    </tr>\n",
       "  </thead>\n",
       "  <tbody>\n",
       "    <tr>\n",
       "      <th>0</th>\n",
       "      <td>United States</td>\n",
       "      <td>28781083.0</td>\n",
       "      <td>27360935.0</td>\n",
       "      <td>25744100.0</td>\n",
       "    </tr>\n",
       "    <tr>\n",
       "      <th>1</th>\n",
       "      <td>China</td>\n",
       "      <td>18532633.0</td>\n",
       "      <td>17794782.0</td>\n",
       "      <td>17963170.0</td>\n",
       "    </tr>\n",
       "    <tr>\n",
       "      <th>2</th>\n",
       "      <td>Germany</td>\n",
       "      <td>4591100.0</td>\n",
       "      <td>4456081.0</td>\n",
       "      <td>4076923.0</td>\n",
       "    </tr>\n",
       "    <tr>\n",
       "      <th>3</th>\n",
       "      <td>Japan</td>\n",
       "      <td>4110452.0</td>\n",
       "      <td>4212945.0</td>\n",
       "      <td>4232173.0</td>\n",
       "    </tr>\n",
       "    <tr>\n",
       "      <th>4</th>\n",
       "      <td>India</td>\n",
       "      <td>3937011.0</td>\n",
       "      <td>3549919.0</td>\n",
       "      <td>3465541.0</td>\n",
       "    </tr>\n",
       "  </tbody>\n",
       "</table>\n",
       "</div>"
      ],
      "text/plain": [
       "         country    IMF 2024     WB 2023     UN 2022\n",
       "0  United States  28781083.0  27360935.0  25744100.0\n",
       "1          China  18532633.0  17794782.0  17963170.0\n",
       "2        Germany   4591100.0   4456081.0   4076923.0\n",
       "3          Japan   4110452.0   4212945.0   4232173.0\n",
       "4          India   3937011.0   3549919.0   3465541.0"
      ]
     },
     "execution_count": 244,
     "metadata": {},
     "output_type": "execute_result"
    }
   ],
   "source": [
    "dataFrame = dataFrame.replace({'—': np.NaN})\n",
    "\n",
    "dataFrame = dataFrame.fillna(dataFrame.mean(numeric_only=True), axis = 0)\n",
    "\n",
    "dataFrame.head()"
   ]
  },
  {
   "cell_type": "code",
   "execution_count": 245,
   "metadata": {},
   "outputs": [
    {
     "data": {
      "text/plain": [
       "country     0\n",
       "IMF 2024    0\n",
       "WB 2023     0\n",
       "UN 2022     0\n",
       "dtype: int64"
      ]
     },
     "execution_count": 245,
     "metadata": {},
     "output_type": "execute_result"
    }
   ],
   "source": [
    "dataFrame.isna().sum()"
   ]
  },
  {
   "cell_type": "markdown",
   "metadata": {},
   "source": [
    "## Крок 10\n",
    "\n",
    "перевіримо на дуплікати"
   ]
  },
  {
   "cell_type": "code",
   "execution_count": 246,
   "metadata": {},
   "outputs": [
    {
     "data": {
      "text/plain": [
       "0"
      ]
     },
     "execution_count": 246,
     "metadata": {},
     "output_type": "execute_result"
    }
   ],
   "source": [
    "dataFrame.duplicated().sum()"
   ]
  },
  {
   "cell_type": "markdown",
   "metadata": {},
   "source": [
    "## Крок 11\n",
    "\n",
    "виведем описову статистику датасету"
   ]
  },
  {
   "cell_type": "code",
   "execution_count": 247,
   "metadata": {},
   "outputs": [
    {
     "data": {
      "text/html": [
       "<div>\n",
       "<style scoped>\n",
       "    .dataframe tbody tr th:only-of-type {\n",
       "        vertical-align: middle;\n",
       "    }\n",
       "\n",
       "    .dataframe tbody tr th {\n",
       "        vertical-align: top;\n",
       "    }\n",
       "\n",
       "    .dataframe thead th {\n",
       "        text-align: right;\n",
       "    }\n",
       "</style>\n",
       "<table border=\"1\" class=\"dataframe\">\n",
       "  <thead>\n",
       "    <tr style=\"text-align: right;\">\n",
       "      <th></th>\n",
       "      <th>IMF 2024</th>\n",
       "      <th>WB 2023</th>\n",
       "      <th>UN 2022</th>\n",
       "    </tr>\n",
       "  </thead>\n",
       "  <tbody>\n",
       "    <tr>\n",
       "      <th>count</th>\n",
       "      <td>2.090000e+02</td>\n",
       "      <td>2.090000e+02</td>\n",
       "      <td>2.090000e+02</td>\n",
       "    </tr>\n",
       "    <tr>\n",
       "      <th>mean</th>\n",
       "      <td>5.644339e+05</td>\n",
       "      <td>5.178115e+05</td>\n",
       "      <td>4.811087e+05</td>\n",
       "    </tr>\n",
       "    <tr>\n",
       "      <th>std</th>\n",
       "      <td>2.435307e+06</td>\n",
       "      <td>2.325859e+06</td>\n",
       "      <td>2.236743e+06</td>\n",
       "    </tr>\n",
       "    <tr>\n",
       "      <th>min</th>\n",
       "      <td>6.600000e+01</td>\n",
       "      <td>6.200000e+01</td>\n",
       "      <td>5.900000e+01</td>\n",
       "    </tr>\n",
       "    <tr>\n",
       "      <th>25%</th>\n",
       "      <td>1.446700e+04</td>\n",
       "      <td>1.043800e+04</td>\n",
       "      <td>8.772000e+03</td>\n",
       "    </tr>\n",
       "    <tr>\n",
       "      <th>50%</th>\n",
       "      <td>5.631000e+04</td>\n",
       "      <td>4.320500e+04</td>\n",
       "      <td>3.171700e+04</td>\n",
       "    </tr>\n",
       "    <tr>\n",
       "      <th>75%</th>\n",
       "      <td>4.099890e+05</td>\n",
       "      <td>3.355330e+05</td>\n",
       "      <td>2.371010e+05</td>\n",
       "    </tr>\n",
       "    <tr>\n",
       "      <th>max</th>\n",
       "      <td>2.878108e+07</td>\n",
       "      <td>2.736094e+07</td>\n",
       "      <td>2.574410e+07</td>\n",
       "    </tr>\n",
       "  </tbody>\n",
       "</table>\n",
       "</div>"
      ],
      "text/plain": [
       "           IMF 2024       WB 2023       UN 2022\n",
       "count  2.090000e+02  2.090000e+02  2.090000e+02\n",
       "mean   5.644339e+05  5.178115e+05  4.811087e+05\n",
       "std    2.435307e+06  2.325859e+06  2.236743e+06\n",
       "min    6.600000e+01  6.200000e+01  5.900000e+01\n",
       "25%    1.446700e+04  1.043800e+04  8.772000e+03\n",
       "50%    5.631000e+04  4.320500e+04  3.171700e+04\n",
       "75%    4.099890e+05  3.355330e+05  2.371010e+05\n",
       "max    2.878108e+07  2.736094e+07  2.574410e+07"
      ]
     },
     "execution_count": 247,
     "metadata": {},
     "output_type": "execute_result"
    }
   ],
   "source": [
    "dataFrame.describe()"
   ]
  },
  {
   "cell_type": "markdown",
   "metadata": {},
   "source": [
    "## Крок 12\n",
    "\n",
    "визначимо відхилення (ріницю) між показником \"IMF 2024\" та \"WB 2023\""
   ]
  },
  {
   "cell_type": "code",
   "execution_count": 248,
   "metadata": {},
   "outputs": [
    {
     "data": {
      "text/html": [
       "<div>\n",
       "<style scoped>\n",
       "    .dataframe tbody tr th:only-of-type {\n",
       "        vertical-align: middle;\n",
       "    }\n",
       "\n",
       "    .dataframe tbody tr th {\n",
       "        vertical-align: top;\n",
       "    }\n",
       "\n",
       "    .dataframe thead th {\n",
       "        text-align: right;\n",
       "    }\n",
       "</style>\n",
       "<table border=\"1\" class=\"dataframe\">\n",
       "  <thead>\n",
       "    <tr style=\"text-align: right;\">\n",
       "      <th></th>\n",
       "      <th>country</th>\n",
       "      <th>IMF 2024</th>\n",
       "      <th>WB 2023</th>\n",
       "      <th>UN 2022</th>\n",
       "      <th>deviation</th>\n",
       "    </tr>\n",
       "  </thead>\n",
       "  <tbody>\n",
       "    <tr>\n",
       "      <th>0</th>\n",
       "      <td>United States</td>\n",
       "      <td>2.878108e+07</td>\n",
       "      <td>27360935.0</td>\n",
       "      <td>25744100.0</td>\n",
       "      <td>1.420148e+06</td>\n",
       "    </tr>\n",
       "    <tr>\n",
       "      <th>1</th>\n",
       "      <td>China</td>\n",
       "      <td>1.853263e+07</td>\n",
       "      <td>17794782.0</td>\n",
       "      <td>17963170.0</td>\n",
       "      <td>7.378510e+05</td>\n",
       "    </tr>\n",
       "    <tr>\n",
       "      <th>195</th>\n",
       "      <td>Turks and Caicos Islands</td>\n",
       "      <td>5.644339e+05</td>\n",
       "      <td>1402.0</td>\n",
       "      <td>1138.0</td>\n",
       "      <td>5.630319e+05</td>\n",
       "    </tr>\n",
       "    <tr>\n",
       "      <th>192</th>\n",
       "      <td>Sint Maarten</td>\n",
       "      <td>5.644339e+05</td>\n",
       "      <td>1623.0</td>\n",
       "      <td>1572.0</td>\n",
       "      <td>5.628109e+05</td>\n",
       "    </tr>\n",
       "    <tr>\n",
       "      <th>177</th>\n",
       "      <td>Curaçao</td>\n",
       "      <td>5.644339e+05</td>\n",
       "      <td>3074.0</td>\n",
       "      <td>3075.0</td>\n",
       "      <td>5.613599e+05</td>\n",
       "    </tr>\n",
       "    <tr>\n",
       "      <th>175</th>\n",
       "      <td>Greenland</td>\n",
       "      <td>5.644339e+05</td>\n",
       "      <td>3236.0</td>\n",
       "      <td>2926.0</td>\n",
       "      <td>5.611979e+05</td>\n",
       "    </tr>\n",
       "    <tr>\n",
       "      <th>165</th>\n",
       "      <td>French Polynesia</td>\n",
       "      <td>5.644339e+05</td>\n",
       "      <td>5815.0</td>\n",
       "      <td>5814.0</td>\n",
       "      <td>5.586189e+05</td>\n",
       "    </tr>\n",
       "    <tr>\n",
       "      <th>163</th>\n",
       "      <td>Cayman Islands</td>\n",
       "      <td>5.644339e+05</td>\n",
       "      <td>6601.0</td>\n",
       "      <td>6281.0</td>\n",
       "      <td>5.578329e+05</td>\n",
       "    </tr>\n",
       "    <tr>\n",
       "      <th>159</th>\n",
       "      <td>Liechtenstein</td>\n",
       "      <td>5.644339e+05</td>\n",
       "      <td>7365.0</td>\n",
       "      <td>7757.0</td>\n",
       "      <td>5.570689e+05</td>\n",
       "    </tr>\n",
       "    <tr>\n",
       "      <th>160</th>\n",
       "      <td>Bermuda</td>\n",
       "      <td>5.644339e+05</td>\n",
       "      <td>7828.0</td>\n",
       "      <td>7546.0</td>\n",
       "      <td>5.566059e+05</td>\n",
       "    </tr>\n",
       "  </tbody>\n",
       "</table>\n",
       "</div>"
      ],
      "text/plain": [
       "                      country      IMF 2024     WB 2023     UN 2022  \\\n",
       "0               United States  2.878108e+07  27360935.0  25744100.0   \n",
       "1                       China  1.853263e+07  17794782.0  17963170.0   \n",
       "195  Turks and Caicos Islands  5.644339e+05      1402.0      1138.0   \n",
       "192              Sint Maarten  5.644339e+05      1623.0      1572.0   \n",
       "177                   Curaçao  5.644339e+05      3074.0      3075.0   \n",
       "175                 Greenland  5.644339e+05      3236.0      2926.0   \n",
       "165          French Polynesia  5.644339e+05      5815.0      5814.0   \n",
       "163            Cayman Islands  5.644339e+05      6601.0      6281.0   \n",
       "159             Liechtenstein  5.644339e+05      7365.0      7757.0   \n",
       "160                   Bermuda  5.644339e+05      7828.0      7546.0   \n",
       "\n",
       "        deviation  \n",
       "0    1.420148e+06  \n",
       "1    7.378510e+05  \n",
       "195  5.630319e+05  \n",
       "192  5.628109e+05  \n",
       "177  5.613599e+05  \n",
       "175  5.611979e+05  \n",
       "165  5.586189e+05  \n",
       "163  5.578329e+05  \n",
       "159  5.570689e+05  \n",
       "160  5.566059e+05  "
      ]
     },
     "execution_count": 248,
     "metadata": {},
     "output_type": "execute_result"
    }
   ],
   "source": [
    "# створюємо новий датасет в якому додамо новий стопчкик різниці,\n",
    "# аби ми могли відсортувати за ним\n",
    "dataFrameDev = dataFrame.copy()\n",
    "dataFrameDev['deviation'] = dataFrameDev['IMF 2024'] - dataFrameDev['WB 2023']\n",
    "\n",
    "dataFrameDev = dataFrameDev.sort_values(by='deviation', key=abs, ascending=False)\n",
    "\n",
    "dataFrameDev.head(10)"
   ]
  },
  {
   "cell_type": "markdown",
   "metadata": {},
   "source": [
    "## Крок 13\n",
    "\n",
    "визначимо кореляції між поданими записами даних"
   ]
  },
  {
   "cell_type": "code",
   "execution_count": 249,
   "metadata": {},
   "outputs": [
    {
     "name": "stdout",
     "output_type": "stream",
     "text": [
      "          IMF 2024   WB 2023   UN 2022\n",
      "IMF 2024  1.000000  0.998216  0.997244\n",
      "WB 2023   0.998216  1.000000  0.998610\n",
      "UN 2022   0.997244  0.998610  1.000000\n"
     ]
    }
   ],
   "source": [
    "correlatinMatrix = dataFrame[['IMF 2024', 'WB 2023', 'UN 2022']].corr()\n",
    "\n",
    "print(correlatinMatrix)"
   ]
  },
  {
   "cell_type": "markdown",
   "metadata": {},
   "source": [
    "## Крок 14\n",
    "\n",
    "визначимо середні значення по стопчиках"
   ]
  },
  {
   "cell_type": "code",
   "execution_count": 250,
   "metadata": {},
   "outputs": [
    {
     "name": "stdout",
     "output_type": "stream",
     "text": [
      "IMF 2024    564433.932990\n",
      "WB 2023     517811.472637\n",
      "UN 2022     481108.673077\n",
      "dtype: float64\n"
     ]
    }
   ],
   "source": [
    "meanValues = dataFrame[['IMF 2024', 'WB 2023', 'UN 2022']].mean()\n",
    "\n",
    "print(meanValues)"
   ]
  },
  {
   "cell_type": "markdown",
   "metadata": {},
   "source": [
    "## Крок 15\n",
    "\n",
    "Визначимо стандартне відхилення показників кожної країни, знайдемо найбільше та найменше"
   ]
  },
  {
   "cell_type": "code",
   "execution_count": 251,
   "metadata": {},
   "outputs": [
    {
     "data": {
      "text/html": [
       "<div>\n",
       "<style scoped>\n",
       "    .dataframe tbody tr th:only-of-type {\n",
       "        vertical-align: middle;\n",
       "    }\n",
       "\n",
       "    .dataframe tbody tr th {\n",
       "        vertical-align: top;\n",
       "    }\n",
       "\n",
       "    .dataframe thead th {\n",
       "        text-align: right;\n",
       "    }\n",
       "</style>\n",
       "<table border=\"1\" class=\"dataframe\">\n",
       "  <thead>\n",
       "    <tr style=\"text-align: right;\">\n",
       "      <th></th>\n",
       "      <th>country</th>\n",
       "      <th>std_deviation</th>\n",
       "    </tr>\n",
       "  </thead>\n",
       "  <tbody>\n",
       "    <tr>\n",
       "      <th>0</th>\n",
       "      <td>United States</td>\n",
       "      <td>1.519553e+06</td>\n",
       "    </tr>\n",
       "    <tr>\n",
       "      <th>1</th>\n",
       "      <td>China</td>\n",
       "      <td>3.866667e+05</td>\n",
       "    </tr>\n",
       "    <tr>\n",
       "      <th>2</th>\n",
       "      <td>Germany</td>\n",
       "      <td>2.665736e+05</td>\n",
       "    </tr>\n",
       "    <tr>\n",
       "      <th>3</th>\n",
       "      <td>Japan</td>\n",
       "      <td>6.543512e+04</td>\n",
       "    </tr>\n",
       "    <tr>\n",
       "      <th>4</th>\n",
       "      <td>India</td>\n",
       "      <td>2.514106e+05</td>\n",
       "    </tr>\n",
       "  </tbody>\n",
       "</table>\n",
       "</div>"
      ],
      "text/plain": [
       "         country  std_deviation\n",
       "0  United States   1.519553e+06\n",
       "1          China   3.866667e+05\n",
       "2        Germany   2.665736e+05\n",
       "3          Japan   6.543512e+04\n",
       "4          India   2.514106e+05"
      ]
     },
     "execution_count": 251,
     "metadata": {},
     "output_type": "execute_result"
    }
   ],
   "source": [
    "dataFrameStd = dataFrame.copy()\n",
    "dataFrameStd['std_deviation'] = dataFrameStd[['IMF 2024', 'WB 2023', 'UN 2022']].std(axis=1)\n",
    "\n",
    "dataFrameStd[['country', 'std_deviation']].head()"
   ]
  },
  {
   "cell_type": "code",
   "execution_count": 252,
   "metadata": {},
   "outputs": [
    {
     "name": "stdout",
     "output_type": "stream",
     "text": [
      "країна з найбільшою варіативністю\n",
      "          country  std_deviation\n",
      "0  United States   1.519553e+06\n",
      "країна з найменшою варіативністю\n",
      "     country  std_deviation\n",
      "208  Tuvalu       3.511885\n"
     ]
    }
   ],
   "source": [
    "devMost = dataFrameStd.sort_values(by='std_deviation', ascending=False)\n",
    "print('країна з найбільшою варіативністю\\n', devMost.head(1)[['country', 'std_deviation']])\n",
    "\n",
    "devLeast = dataFrameStd.sort_values(by='std_deviation', ascending=True)\n",
    "print('країна з найменшою варіативністю\\n', devLeast.head(1)[['country', 'std_deviation']])\n"
   ]
  },
  {
   "cell_type": "markdown",
   "metadata": {},
   "source": [
    "## Крок 15\n",
    "\n",
    "визначимо країну з найменшими та найбільшими показниками по стопцях"
   ]
  },
  {
   "cell_type": "code",
   "execution_count": 253,
   "metadata": {},
   "outputs": [
    {
     "name": "stdout",
     "output_type": "stream",
     "text": [
      "країна з найвищим показником у IMF 2024:  United States\n",
      "країна з найвищим показником у WB 2023:  United States\n",
      "країна з найвищим показником у UN 2022:  United States\n"
     ]
    }
   ],
   "source": [
    "max_mvF_2024_country = dataFrame.loc[dataFrame['IMF 2024'].idxmax(), 'country']\n",
    "max_wb_2023_country = dataFrame.loc[dataFrame['WB 2023'].idxmax(), 'country']\n",
    "max_oon_2022_country = dataFrame.loc[dataFrame['UN 2022'].idxmax(), 'country']\n",
    "\n",
    "print(\"країна з найвищим показником у IMF 2024: \", max_mvF_2024_country)\n",
    "print(\"країна з найвищим показником у WB 2023: \", max_wb_2023_country)\n",
    "print(\"країна з найвищим показником у UN 2022: \", max_oon_2022_country)"
   ]
  },
  {
   "cell_type": "code",
   "execution_count": 254,
   "metadata": {},
   "outputs": [
    {
     "name": "stdout",
     "output_type": "stream",
     "text": [
      "країна з найнищим показником у IMF 2024:  Tuvalu\n",
      "країна з найнищим показником у WB 2023:  Tuvalu\n",
      "країна з найнищим показником у UN 2022:  Tuvalu\n"
     ]
    }
   ],
   "source": [
    "max_mvF_2024_country = dataFrame.loc[dataFrame['IMF 2024'].idxmin(), 'country']\n",
    "max_wb_2023_country = dataFrame.loc[dataFrame['WB 2023'].idxmin(), 'country']\n",
    "max_oon_2022_country = dataFrame.loc[dataFrame['UN 2022'].idxmin(), 'country']\n",
    "\n",
    "print(\"країна з найнищим показником у IMF 2024: \", max_mvF_2024_country)\n",
    "print(\"країна з найнищим показником у WB 2023: \", max_wb_2023_country)\n",
    "print(\"країна з найнищим показником у UN 2022: \", max_oon_2022_country)"
   ]
  },
  {
   "cell_type": "markdown",
   "metadata": {},
   "source": [
    "## Крок 16\n",
    "\n",
    "побудуємо гістограму розподілу країн за показником IMF 2024"
   ]
  },
  {
   "cell_type": "code",
   "execution_count": 255,
   "metadata": {},
   "outputs": [
    {
     "data": {
      "image/png": "[encoded data removed]",
      "text/plain": [
       "<Figure size 1500x700 with 1 Axes>"
      ]
     },
     "metadata": {},
     "output_type": "display_data"
    },
    {
     "data": {
      "text/html": [
       "<div>\n",
       "<style scoped>\n",
       "    .dataframe tbody tr th:only-of-type {\n",
       "        vertical-align: middle;\n",
       "    }\n",
       "\n",
       "    .dataframe tbody tr th {\n",
       "        vertical-align: top;\n",
       "    }\n",
       "\n",
       "    .dataframe thead th {\n",
       "        text-align: right;\n",
       "    }\n",
       "</style>\n",
       "<table border=\"1\" class=\"dataframe\">\n",
       "  <thead>\n",
       "    <tr style=\"text-align: right;\">\n",
       "      <th></th>\n",
       "      <th>country</th>\n",
       "      <th>IMF 2024</th>\n",
       "      <th>WB 2023</th>\n",
       "      <th>UN 2022</th>\n",
       "    </tr>\n",
       "  </thead>\n",
       "  <tbody>\n",
       "    <tr>\n",
       "      <th>0</th>\n",
       "      <td>United States</td>\n",
       "      <td>28781083.0</td>\n",
       "      <td>27360935.0</td>\n",
       "      <td>25744100.0</td>\n",
       "    </tr>\n",
       "    <tr>\n",
       "      <th>1</th>\n",
       "      <td>China</td>\n",
       "      <td>18532633.0</td>\n",
       "      <td>17794782.0</td>\n",
       "      <td>17963170.0</td>\n",
       "    </tr>\n",
       "    <tr>\n",
       "      <th>2</th>\n",
       "      <td>Germany</td>\n",
       "      <td>4591100.0</td>\n",
       "      <td>4456081.0</td>\n",
       "      <td>4076923.0</td>\n",
       "    </tr>\n",
       "    <tr>\n",
       "      <th>3</th>\n",
       "      <td>Japan</td>\n",
       "      <td>4110452.0</td>\n",
       "      <td>4212945.0</td>\n",
       "      <td>4232173.0</td>\n",
       "    </tr>\n",
       "    <tr>\n",
       "      <th>4</th>\n",
       "      <td>India</td>\n",
       "      <td>3937011.0</td>\n",
       "      <td>3549919.0</td>\n",
       "      <td>3465541.0</td>\n",
       "    </tr>\n",
       "    <tr>\n",
       "      <th>5</th>\n",
       "      <td>United Kingdom</td>\n",
       "      <td>3495261.0</td>\n",
       "      <td>3340032.0</td>\n",
       "      <td>3089072.0</td>\n",
       "    </tr>\n",
       "    <tr>\n",
       "      <th>6</th>\n",
       "      <td>France</td>\n",
       "      <td>3130014.0</td>\n",
       "      <td>3030904.0</td>\n",
       "      <td>2775316.0</td>\n",
       "    </tr>\n",
       "    <tr>\n",
       "      <th>7</th>\n",
       "      <td>Brazil</td>\n",
       "      <td>2331391.0</td>\n",
       "      <td>2173666.0</td>\n",
       "      <td>1920095.0</td>\n",
       "    </tr>\n",
       "    <tr>\n",
       "      <th>8</th>\n",
       "      <td>Italy</td>\n",
       "      <td>2328028.0</td>\n",
       "      <td>2254851.0</td>\n",
       "      <td>2046952.0</td>\n",
       "    </tr>\n",
       "    <tr>\n",
       "      <th>9</th>\n",
       "      <td>Canada</td>\n",
       "      <td>2242182.0</td>\n",
       "      <td>2140086.0</td>\n",
       "      <td>2137939.0</td>\n",
       "    </tr>\n",
       "  </tbody>\n",
       "</table>\n",
       "</div>"
      ],
      "text/plain": [
       "          country    IMF 2024     WB 2023     UN 2022\n",
       "0   United States  28781083.0  27360935.0  25744100.0\n",
       "1           China  18532633.0  17794782.0  17963170.0\n",
       "2         Germany   4591100.0   4456081.0   4076923.0\n",
       "3           Japan   4110452.0   4212945.0   4232173.0\n",
       "4           India   3937011.0   3549919.0   3465541.0\n",
       "5  United Kingdom   3495261.0   3340032.0   3089072.0\n",
       "6          France   3130014.0   3030904.0   2775316.0\n",
       "7          Brazil   2331391.0   2173666.0   1920095.0\n",
       "8           Italy   2328028.0   2254851.0   2046952.0\n",
       "9          Canada   2242182.0   2140086.0   2137939.0"
      ]
     },
     "execution_count": 255,
     "metadata": {},
     "output_type": "execute_result"
    }
   ],
   "source": [
    "import matplotlib.pyplot as plt\n",
    "\n",
    "plt.figure(figsize=(15, 7))\n",
    "plt.hist(dataFrame['IMF 2024'], bins=300, color='skyblue', edgecolor='black')\n",
    "\n",
    "plt.title('Розподіл показників IMF 2024 серед країн')\n",
    "plt.xlabel('IMF 2024')\n",
    "\n",
    "plt.show()\n",
    "\n",
    "dataFrame.head(10)\n",
    "\n"
   ]
  },
  {
   "cell_type": "markdown",
   "metadata": {},
   "source": [
    "## Крок 17\n",
    "\n",
    "розрахуємо частку кожної країни в загальному значенні для кожного з показників"
   ]
  },
  {
   "cell_type": "code",
   "execution_count": 256,
   "metadata": {},
   "outputs": [
    {
     "name": "stdout",
     "output_type": "stream",
     "text": [
      "              country  IMF 2024 share  WB 2023 share  UN 2022 share\n",
      "0       United States    2.439764e-01   2.528209e-01   2.560285e-01\n",
      "1               China    1.571006e-01   1.644276e-01   1.786461e-01\n",
      "2             Germany    3.891861e-02   4.117514e-02   4.054554e-02\n",
      "3               Japan    3.484417e-02   3.892851e-02   4.208952e-02\n",
      "4               India    3.337392e-02   3.280201e-02   3.446526e-02\n",
      "..                ...             ...            ...            ...\n",
      "204          Kiribati    2.636337e-06   2.578020e-06   2.217764e-06\n",
      "205             Palau    2.610906e-06   2.430176e-06   2.237655e-06\n",
      "206  Marshall Islands    2.585476e-06   2.624221e-06   2.774692e-06\n",
      "207             Nauru    1.364792e-06   1.422993e-06   1.461934e-06\n",
      "208            Tuvalu    5.594800e-07   5.728933e-07   5.867628e-07\n",
      "\n",
      "[209 rows x 4 columns]\n"
     ]
    }
   ],
   "source": [
    "dataFrameShare = dataFrame.copy()\n",
    "\n",
    "total_imf_2024 = dataFrameShare['IMF 2024'].sum()\n",
    "total_wb_2023 = dataFrameShare['WB 2023'].sum()\n",
    "total_un_2022 = dataFrameShare['UN 2022'].sum()\n",
    "\n",
    "dataFrameShare['IMF 2024 share'] = dataFrameShare['IMF 2024'] / total_imf_2024\n",
    "dataFrameShare['WB 2023 share'] = dataFrameShare['WB 2023'] / total_wb_2023\n",
    "dataFrameShare['UN 2022 share'] = dataFrameShare['UN 2022'] / total_un_2022\n",
    "\n",
    "print(dataFrameShare[['country', 'IMF 2024 share', 'WB 2023 share', 'UN 2022 share']])\n"
   ]
  }
 ],
 "metadata": {
  "kernelspec": {
   "display_name": "Python 3",
   "language": "python",
   "name": "python3"
  },
  "language_info": {
   "codemirror_mode": {
    "name": "ipython",
    "version": 3
   },
   "file_extension": ".py",
   "mimetype": "text/x-python",
   "name": "python",
   "nbconvert_exporter": "python",
   "pygments_lexer": "ipython3",
   "version": "3.10.12"
  }
 },
 "nbformat": 4,
 "nbformat_minor": 2
}
